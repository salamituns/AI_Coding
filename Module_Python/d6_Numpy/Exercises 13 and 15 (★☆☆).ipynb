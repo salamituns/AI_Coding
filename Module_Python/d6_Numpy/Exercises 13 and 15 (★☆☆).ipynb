{
 "cells": [
  {
   "cell_type": "code",
   "execution_count": 1,
   "id": "biological-worcester",
   "metadata": {},
   "outputs": [],
   "source": [
    "# Import the needed libraries\n",
    "import numpy as np"
   ]
  },
  {
   "cell_type": "markdown",
   "id": "champion-greensboro",
   "metadata": {},
   "source": [
    "**13. Create a 10x10 array with random values and find the minimum and maximum values**"
   ]
  },
  {
   "cell_type": "code",
   "execution_count": 10,
   "id": "joint-explorer",
   "metadata": {},
   "outputs": [
    {
     "output_type": "stream",
     "name": "stdout",
     "text": [
      "\tOriginal arrays\n[[0.08586    0.19308757 0.19838829 0.11608412 0.52152083 0.38140299\n  0.14976893 0.68386689 0.84182173 0.97311151]\n [0.69269488 0.46359069 0.50672512 0.02353054 0.30205388 0.31196039\n  0.44272824 0.87425559 0.60099437 0.10460525]\n [0.41409932 0.99444105 0.27892739 0.06302874 0.82847215 0.91487965\n  0.57618381 0.05481158 0.63879221 0.18511303]\n [0.28027854 0.40106507 0.53794422 0.11646339 0.247857   0.22739646\n  0.46595789 0.3578214  0.4997648  0.89691513]\n [0.41510056 0.45714158 0.56089913 0.52094794 0.61291336 0.74267841\n  0.64528698 0.68313862 0.69894406 0.42095325]\n [0.67181962 0.30009755 0.97575896 0.15777475 0.25408186 0.70702833\n  0.23844258 0.00235486 0.18325071 0.65689083]\n [0.1100921  0.82053102 0.72792861 0.63791611 0.66538166 0.69153235\n  0.40904496 0.7319516  0.457805   0.91448703]\n [0.3979721  0.12328922 0.96736078 0.91956649 0.91439147 0.51231544\n  0.96346373 0.31863777 0.30992209 0.97681334]\n [0.93180413 0.08843661 0.91112492 0.56377924 0.38549606 0.522983\n  0.51644748 0.74771001 0.95981759 0.66075746]\n [0.48999837 0.95569991 0.00827444 0.93257229 0.21700461 0.94383036\n  0.61210263 0.85772616 0.98732402 0.88599135]]\n\tMinimum num and Maximum num:\n0.002354856421325602 0.9944410469310597\n"
     ]
    }
   ],
   "source": [
    "#First is to create the 10 x 10 array up random values.\n",
    "num = np.random.random((10, 10)) #using the .random function\n",
    "print(\"\\t\" \"Original arrays\")\n",
    "print(num)\n",
    "\n",
    "#Then to find the minimum and maximum values,\n",
    "\n",
    "num_min, num_max = num.min(), num.max()\n",
    "print(\"\\t\" \"Minimum num and Maximum num:\")\n",
    "print(num_min, num_max)"
   ]
  },
  {
   "cell_type": "markdown",
   "id": "exempt-organ",
   "metadata": {},
   "source": [
    "**15. Create a 2d array with 1 on the border and 0 inside**"
   ]
  },
  {
   "cell_type": "code",
   "execution_count": 19,
   "id": "sufficient-facility",
   "metadata": {},
   "outputs": [
    {
     "output_type": "stream",
     "name": "stdout",
     "text": [
      "Orignal data\n[[1. 1. 1. 1. 1.]\n [1. 1. 1. 1. 1.]\n [1. 1. 1. 1. 1.]\n [1. 1. 1. 1. 1.]\n [1. 1. 1. 1. 1.]]\nData with 1 on the border and 0 inside\n[[1. 1. 1. 1. 1.]\n [1. 0. 0. 0. 1.]\n [1. 0. 0. 0. 1.]\n [1. 0. 0. 0. 1.]\n [1. 1. 1. 1. 1.]]\n"
     ]
    }
   ],
   "source": [
    "x = np.ones((5, 5))\n",
    "print(\"Orignal data\")\n",
    "print(x)\n",
    "\n",
    "print(\"Data with 1 on the border and 0 inside\")\n",
    "x[1:-1, 1:-1]= 0\n",
    "print(x)"
   ]
  },
  {
   "cell_type": "code",
   "execution_count": null,
   "metadata": {},
   "outputs": [],
   "source": []
  }
 ],
 "metadata": {
  "kernelspec": {
   "display_name": "Python 3",
   "language": "python",
   "name": "python3"
  },
  "language_info": {
   "codemirror_mode": {
    "name": "ipython",
    "version": 3
   },
   "file_extension": ".py",
   "mimetype": "text/x-python",
   "name": "python",
   "nbconvert_exporter": "python",
   "pygments_lexer": "ipython3",
   "version": "3.8.2-final"
  }
 },
 "nbformat": 4,
 "nbformat_minor": 5
}