{
 "cells": [
  {
   "cell_type": "code",
   "execution_count": 1,
   "id": "complimentary-handbook",
   "metadata": {
    "slideshow": {
     "slide_type": "slide"
    }
   },
   "outputs": [],
   "source": [
    "# Import the needed libraries\n",
    "import numpy as np"
   ]
  },
  {
   "cell_type": "markdown",
   "id": "pacific-kentucky",
   "metadata": {},
   "source": [
    "**72. How to swap two rows of an array?** "
   ]
  },
  {
   "cell_type": "code",
   "execution_count": 5,
   "id": "proper-reservoir",
   "metadata": {},
   "outputs": [
    {
     "output_type": "stream",
     "name": "stdout",
     "text": [
      "Original arrange\n[[ 0  1  2  3]\n [ 4  5  6  7]\n [ 8  9 10 11]]\nSwapping my original array\n[[ 0  4  8]\n [ 1  5  9]\n [ 2  6 10]\n [ 3  7 11]]\n"
     ]
    }
   ],
   "source": [
    "my_array = np.arange(12).reshape(3,4)\n",
    "print(\"Original arrange\")\n",
    "print(my_array)\n",
    "\n",
    "print(\"Swapping my original array\")\n",
    "\n",
    "my_array_T = my_array.T\n",
    "print(my_array_T)\n"
   ]
  },
  {
   "cell_type": "markdown",
   "id": "outer-encoding",
   "metadata": {},
   "source": [
    "**75. How to compute averages using a sliding window over an array?**"
   ]
  },
  {
   "source": [
    "import numpy as np\n",
    "# need to create a function to return moving average\n",
    "def moving_average(a, n) :\n",
    "    test = np.cumsum(a, dtype=float)\n",
    "    test[n:] = test[n:] - test[:-n]\n",
    "    return test[n - 1:] / n\n",
    "# this uses cumulative sum for calculation\n",
    "\n",
    "Z = np.arange(20)\n",
    "\n",
    "print(moving_average(Z,n=3))"
   ],
   "cell_type": "markdown",
   "metadata": {}
  },
  {
   "cell_type": "code",
   "execution_count": 8,
   "metadata": {},
   "outputs": [
    {
     "output_type": "stream",
     "name": "stdout",
     "text": [
      "[ 1.  2.  3.  4.  5.  6.  7.  8.  9. 10. 11. 12. 13. 14. 15. 16. 17. 18.]\n"
     ]
    }
   ],
   "source": [
    "import numpy as np\n",
    "# need to create a function to return moving average\n",
    "def moving_average(a, n) :\n",
    "    test = np.cumsum(a, dtype=float)\n",
    "    test[n:] = test[n:] - test[:-n]\n",
    "    return test[n - 1:] / n\n",
    "# this uses cumulative sum for calculation\n",
    "\n",
    "Z = np.arange(20)\n",
    "\n",
    "print(moving_average(Z,n=3))"
   ]
  },
  {
   "cell_type": "code",
   "execution_count": null,
   "metadata": {},
   "outputs": [],
   "source": []
  }
 ],
 "metadata": {
  "kernelspec": {
   "display_name": "Python 3",
   "language": "python",
   "name": "python3"
  },
  "language_info": {
   "codemirror_mode": {
    "name": "ipython",
    "version": 3
   },
   "file_extension": ".py",
   "mimetype": "text/x-python",
   "name": "python",
   "nbconvert_exporter": "python",
   "pygments_lexer": "ipython3",
   "version": "3.8.2-final"
  }
 },
 "nbformat": 4,
 "nbformat_minor": 5
}