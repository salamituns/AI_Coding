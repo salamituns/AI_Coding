{
 "cells": [
  {
   "cell_type": "markdown",
   "metadata": {},
   "source": [
    "###### Content under Creative Commons Attribution license CC-BY 4.0, code under BSD 3-Clause License © 2017 L.A. Barba, N.C. Clementi, \n",
    "\n",
    "###### Modified and adapted by Jan Carbonell and Alessia Mondolo"
   ]
  },
  {
   "cell_type": "markdown",
   "metadata": {},
   "source": [
    "# Cheers!  Stats with Beers\n",
    "\n",
    "This first lesson explores how we can answer questions using data combined with practical methods from statistics.\n",
    "\n",
    "We'll need some fun data to work with. We found a neat data set of canned craft beers in the US, scraped from the web and cleaned up by Jean-Nicholas Hould ([@NicholasHould](https://twitter.com/NicholasHould?lang=en) on Twitter)—who we want to thank for having a permissive license on his GitHub repository so we can reuse his [work](https://github.com/nickhould/craft-beers-dataset)!\n",
    "\n",
    "The data source ([@craftcans](https://twitter.com/craftcans) on Twitter) doesn't say that the set includes *all* the canned beers brewed in the country. So we have to assume that the data is a sample and may contain biases.\n",
    "\n",
    "We'll manipulate the data using **NumPy**—the array library for Python that we learned before in the batch. You will combine this with the knowledge you already have in **pandas**. \n",
    "\n",
    "[`pandas`](http://pandas.pydata.org/) is an open-source library providing high-performance, easy-to-use data structures and data-analysis tools.  Even though `pandas` is great for data analysis, we won't exploit all its power in this lesson. But we'll learn more about it later on!\n",
    "\n",
    "We'll use `pandas` to read the data file (in `csv` format, for comma-separated values), display it in a nice table, and extract the columns that we need—which we'll convert to `numpy` arrays to work with.\n",
    "\n",
    "Let's start by importing the two Python libraries that we need."
   ]
  },
  {
   "cell_type": "code",
   "execution_count": 19,
   "metadata": {},
   "outputs": [],
   "source": [
    "import pandas as pd\n",
    "import numpy as np"
   ]
  },
  {
   "cell_type": "markdown",
   "metadata": {},
   "source": [
    "## Step 1: Read the data file\n",
    "\n",
    "Below, we'll take a peek into the data file, `beers.csv,` using the system command `head` (which we can use with a bang, thanks to IPython).\n",
    "\n",
    "But first, we will download the data using a Python library for opening a URL on the Internet. We created a short URL for the data file in the public repository with our course materials.\n",
    "\n",
    "The cell below should download the data in your current working directory. The next cell shows you the first few lines of the data."
   ]
  },
  {
   "cell_type": "code",
   "execution_count": 20,
   "metadata": {},
   "outputs": [
    {
     "output_type": "execute_result",
     "data": {
      "text/plain": [
       "('beers.csv', <http.client.HTTPMessage at 0x7ff03e866490>)"
      ]
     },
     "metadata": {},
     "execution_count": 20
    }
   ],
   "source": [
    "from urllib.request import urlretrieve\n",
    "URL = 'http://go.gwu.edu/engcomp2data1'\n",
    "urlretrieve(URL, 'beers.csv')"
   ]
  },
  {
   "cell_type": "code",
   "execution_count": 21,
   "metadata": {},
   "outputs": [
    {
     "output_type": "stream",
     "name": "stdout",
     "text": [
      ",abv,ibu,id,name,style,brewery_id,ounces\n0,0.05,,1436,Pub Beer,American Pale Lager,408,12.0\n1,0.066,,2265,Devil's Cup,American Pale Ale (APA),177,12.0\n2,0.071,,2264,Rise of the Phoenix,American IPA,177,12.0\n3,0.09,,2263,Sinister,American Double / Imperial IPA,177,12.0\n4,0.075,,2262,Sex and Candy,American IPA,177,12.0\n5,0.077,,2261,Black Exodus,Oatmeal Stout,177,12.0\n6,0.045,,2260,Lake Street Express,American Pale Ale (APA),177,12.0\n7,0.065,,2259,Foreman,American Porter,177,12.0\n8,0.055,,2258,Jade,American Pale Ale (APA),177,12.0\n"
     ]
    }
   ],
   "source": [
    "!head \"beers.csv\""
   ]
  },
  {
   "cell_type": "markdown",
   "metadata": {},
   "source": [
    "We can use `pandas` to read the data from the `csv` file, and save it into a new variable called `beers`. Let's then check the type of this new variable—rememeber that we can use the function `type()` to do this."
   ]
  },
  {
   "cell_type": "code",
   "execution_count": 24,
   "metadata": {},
   "outputs": [],
   "source": [
    "beers = pd.read_csv(\"beers.csv\")"
   ]
  },
  {
   "cell_type": "code",
   "execution_count": 25,
   "metadata": {},
   "outputs": [
    {
     "output_type": "execute_result",
     "data": {
      "text/plain": [
       "pandas.core.frame.DataFrame"
      ]
     },
     "metadata": {},
     "execution_count": 25
    }
   ],
   "source": [
    "type(beers)"
   ]
  },
  {
   "cell_type": "markdown",
   "metadata": {},
   "source": [
    "This is a new data type for us: a `pandas DataFrame`. From the `pandas` documentation: \"A `DataFrame`  is a 2-dimensional labeled data structure with columns of potentially different types\" [4]. You can think of it as the contens of a spreadsheet, saved into one handy Python variable. If you print it out, you get a nicely laid-out table: "
   ]
  },
  {
   "cell_type": "code",
   "execution_count": 26,
   "metadata": {},
   "outputs": [
    {
     "output_type": "execute_result",
     "data": {
      "text/plain": [
       "      Unnamed: 0    abv   ibu    id                  name  \\\n",
       "0              0  0.050   NaN  1436              Pub Beer   \n",
       "1              1  0.066   NaN  2265           Devil's Cup   \n",
       "2              2  0.071   NaN  2264   Rise of the Phoenix   \n",
       "3              3  0.090   NaN  2263              Sinister   \n",
       "4              4  0.075   NaN  2262         Sex and Candy   \n",
       "...          ...    ...   ...   ...                   ...   \n",
       "2405        2405  0.067  45.0   928             Belgorado   \n",
       "2406        2406  0.052   NaN   807         Rail Yard Ale   \n",
       "2407        2407  0.055   NaN   620       B3K Black Lager   \n",
       "2408        2408  0.055  40.0   145   Silverback Pale Ale   \n",
       "2409        2409  0.052   NaN    84  Rail Yard Ale (2009)   \n",
       "\n",
       "                               style  brewery_id  ounces  \n",
       "0                American Pale Lager         408    12.0  \n",
       "1            American Pale Ale (APA)         177    12.0  \n",
       "2                       American IPA         177    12.0  \n",
       "3     American Double / Imperial IPA         177    12.0  \n",
       "4                       American IPA         177    12.0  \n",
       "...                              ...         ...     ...  \n",
       "2405                     Belgian IPA         424    12.0  \n",
       "2406        American Amber / Red Ale         424    12.0  \n",
       "2407                     Schwarzbier         424    12.0  \n",
       "2408         American Pale Ale (APA)         424    12.0  \n",
       "2409        American Amber / Red Ale         424    12.0  \n",
       "\n",
       "[2410 rows x 8 columns]"
      ],
      "text/html": "<div>\n<style scoped>\n    .dataframe tbody tr th:only-of-type {\n        vertical-align: middle;\n    }\n\n    .dataframe tbody tr th {\n        vertical-align: top;\n    }\n\n    .dataframe thead th {\n        text-align: right;\n    }\n</style>\n<table border=\"1\" class=\"dataframe\">\n  <thead>\n    <tr style=\"text-align: right;\">\n      <th></th>\n      <th>Unnamed: 0</th>\n      <th>abv</th>\n      <th>ibu</th>\n      <th>id</th>\n      <th>name</th>\n      <th>style</th>\n      <th>brewery_id</th>\n      <th>ounces</th>\n    </tr>\n  </thead>\n  <tbody>\n    <tr>\n      <th>0</th>\n      <td>0</td>\n      <td>0.050</td>\n      <td>NaN</td>\n      <td>1436</td>\n      <td>Pub Beer</td>\n      <td>American Pale Lager</td>\n      <td>408</td>\n      <td>12.0</td>\n    </tr>\n    <tr>\n      <th>1</th>\n      <td>1</td>\n      <td>0.066</td>\n      <td>NaN</td>\n      <td>2265</td>\n      <td>Devil's Cup</td>\n      <td>American Pale Ale (APA)</td>\n      <td>177</td>\n      <td>12.0</td>\n    </tr>\n    <tr>\n      <th>2</th>\n      <td>2</td>\n      <td>0.071</td>\n      <td>NaN</td>\n      <td>2264</td>\n      <td>Rise of the Phoenix</td>\n      <td>American IPA</td>\n      <td>177</td>\n      <td>12.0</td>\n    </tr>\n    <tr>\n      <th>3</th>\n      <td>3</td>\n      <td>0.090</td>\n      <td>NaN</td>\n      <td>2263</td>\n      <td>Sinister</td>\n      <td>American Double / Imperial IPA</td>\n      <td>177</td>\n      <td>12.0</td>\n    </tr>\n    <tr>\n      <th>4</th>\n      <td>4</td>\n      <td>0.075</td>\n      <td>NaN</td>\n      <td>2262</td>\n      <td>Sex and Candy</td>\n      <td>American IPA</td>\n      <td>177</td>\n      <td>12.0</td>\n    </tr>\n    <tr>\n      <th>...</th>\n      <td>...</td>\n      <td>...</td>\n      <td>...</td>\n      <td>...</td>\n      <td>...</td>\n      <td>...</td>\n      <td>...</td>\n      <td>...</td>\n    </tr>\n    <tr>\n      <th>2405</th>\n      <td>2405</td>\n      <td>0.067</td>\n      <td>45.0</td>\n      <td>928</td>\n      <td>Belgorado</td>\n      <td>Belgian IPA</td>\n      <td>424</td>\n      <td>12.0</td>\n    </tr>\n    <tr>\n      <th>2406</th>\n      <td>2406</td>\n      <td>0.052</td>\n      <td>NaN</td>\n      <td>807</td>\n      <td>Rail Yard Ale</td>\n      <td>American Amber / Red Ale</td>\n      <td>424</td>\n      <td>12.0</td>\n    </tr>\n    <tr>\n      <th>2407</th>\n      <td>2407</td>\n      <td>0.055</td>\n      <td>NaN</td>\n      <td>620</td>\n      <td>B3K Black Lager</td>\n      <td>Schwarzbier</td>\n      <td>424</td>\n      <td>12.0</td>\n    </tr>\n    <tr>\n      <th>2408</th>\n      <td>2408</td>\n      <td>0.055</td>\n      <td>40.0</td>\n      <td>145</td>\n      <td>Silverback Pale Ale</td>\n      <td>American Pale Ale (APA)</td>\n      <td>424</td>\n      <td>12.0</td>\n    </tr>\n    <tr>\n      <th>2409</th>\n      <td>2409</td>\n      <td>0.052</td>\n      <td>NaN</td>\n      <td>84</td>\n      <td>Rail Yard Ale (2009)</td>\n      <td>American Amber / Red Ale</td>\n      <td>424</td>\n      <td>12.0</td>\n    </tr>\n  </tbody>\n</table>\n<p>2410 rows × 8 columns</p>\n</div>"
     },
     "metadata": {},
     "execution_count": 26
    }
   ],
   "source": [
    "beers"
   ]
  },
  {
   "cell_type": "markdown",
   "metadata": {},
   "source": [
    "Inspect the table above. The first column is a numbering scheme for the beers. The other columns contain the following data:\n",
    "\n",
    "- `abv`: Alcohol-by-volume of the beer.\n",
    "- `ibu`: International Bittering Units of the beer.\n",
    "- `id`: Unique identifier of the beer.\n",
    "- `name`: Name of the beer.\n",
    "- `style`: Style of the beer.\n",
    "- `brewery_id`: Unique identifier of the brewery.\n",
    "- `ounces`: Ounces of beer in the can."
   ]
  },
  {
   "cell_type": "markdown",
   "metadata": {},
   "source": [
    "## Step 2: Explore the data\n",
    "\n",
    "In the field of statistics, [Exploratory Data Analysis](https://en.wikipedia.org/wiki/Exploratory_data_analysis) (EDA) has the goal of summarizing the main features of our data, and seeing what the data can tell us without formal modeling or hypothesis-testing. [2]\n",
    "\n",
    "Let's start by extracting the columns with the `abv` and `ibu` values, and converting them to NumPy arrays. One of the advantages of data frames in `pandas` is that we can access a column simply using its header, like this:\n",
    "\n",
    "```python\n",
    "data_frame['name_of_column']\n",
    "```\n",
    "\n",
    "The output of this action is a `pandas Series`. From the documentation: \"a `Series` is a 1-dimensional labeled array capable of holding any data type.\" [4]\n",
    "\n",
    "## Exercise: Check the type of a column extracted by header:"
   ]
  },
  {
   "cell_type": "code",
   "execution_count": 27,
   "metadata": {},
   "outputs": [
    {
     "output_type": "execute_result",
     "data": {
      "text/plain": [
       "      abv  ibu\n",
       "0   0.050  NaN\n",
       "1   0.066  NaN\n",
       "2   0.071  NaN\n",
       "3   0.090  NaN\n",
       "4   0.075  NaN\n",
       "5   0.077  NaN\n",
       "6   0.045  NaN\n",
       "7   0.065  NaN\n",
       "8   0.055  NaN\n",
       "9   0.086  NaN\n",
       "10  0.072  NaN"
      ],
      "text/html": "<div>\n<style scoped>\n    .dataframe tbody tr th:only-of-type {\n        vertical-align: middle;\n    }\n\n    .dataframe tbody tr th {\n        vertical-align: top;\n    }\n\n    .dataframe thead th {\n        text-align: right;\n    }\n</style>\n<table border=\"1\" class=\"dataframe\">\n  <thead>\n    <tr style=\"text-align: right;\">\n      <th></th>\n      <th>abv</th>\n      <th>ibu</th>\n    </tr>\n  </thead>\n  <tbody>\n    <tr>\n      <th>0</th>\n      <td>0.050</td>\n      <td>NaN</td>\n    </tr>\n    <tr>\n      <th>1</th>\n      <td>0.066</td>\n      <td>NaN</td>\n    </tr>\n    <tr>\n      <th>2</th>\n      <td>0.071</td>\n      <td>NaN</td>\n    </tr>\n    <tr>\n      <th>3</th>\n      <td>0.090</td>\n      <td>NaN</td>\n    </tr>\n    <tr>\n      <th>4</th>\n      <td>0.075</td>\n      <td>NaN</td>\n    </tr>\n    <tr>\n      <th>5</th>\n      <td>0.077</td>\n      <td>NaN</td>\n    </tr>\n    <tr>\n      <th>6</th>\n      <td>0.045</td>\n      <td>NaN</td>\n    </tr>\n    <tr>\n      <th>7</th>\n      <td>0.065</td>\n      <td>NaN</td>\n    </tr>\n    <tr>\n      <th>8</th>\n      <td>0.055</td>\n      <td>NaN</td>\n    </tr>\n    <tr>\n      <th>9</th>\n      <td>0.086</td>\n      <td>NaN</td>\n    </tr>\n    <tr>\n      <th>10</th>\n      <td>0.072</td>\n      <td>NaN</td>\n    </tr>\n  </tbody>\n</table>\n</div>"
     },
     "metadata": {},
     "execution_count": 27
    }
   ],
   "source": [
    "#extracting the columns with the abv and ibu values.\n",
    "df = pd.DataFrame(beers) #save the data into the data frame df\n",
    "df_abv_ibu = df.loc[0:10,('abv', 'ibu')] #locates the titles of abv and ibu and prints the first ten values using there index\n",
    "df_abv_ibu #prints the values from after they have been saved in the varible df_abv_ibu"
   ]
  },
  {
   "cell_type": "markdown",
   "metadata": {},
   "source": [
    "Of course, you can index and slice a data series like you know how to do with strings, lists and arrays.\n",
    "\n",
    "## Exercise: Display the first ten elements of the `abv` series:"
   ]
  },
  {
   "cell_type": "code",
   "execution_count": 28,
   "metadata": {},
   "outputs": [
    {
     "output_type": "execute_result",
     "data": {
      "text/plain": [
       "0     0.050\n",
       "1     0.066\n",
       "2     0.071\n",
       "3     0.090\n",
       "4     0.075\n",
       "5     0.077\n",
       "6     0.045\n",
       "7     0.065\n",
       "8     0.055\n",
       "9     0.086\n",
       "10    0.072\n",
       "Name: abv, dtype: float64"
      ]
     },
     "metadata": {},
     "execution_count": 28
    }
   ],
   "source": [
    "df_abv = df['abv']\n",
    "df_abv.head(11) #using the head function dispalys the elements within the abv series. (11).dispalys top 10 indexes"
   ]
  },
  {
   "cell_type": "markdown",
   "metadata": {},
   "source": [
    "Inspect the data in the table again: you'll notice that there are `NaN` (not-a-number) elements in both the `abv` and `ibu` columns. Those values mean that there was no data reported for that beer. A typical task when cleaning up data is to deal with these pesky `NaN`s.\n",
    "\n",
    "## Exercise: Extract the two series corresponding to the `abv` and `ibu` columns, clean the data by removing all `NaN` values, and then access the values of each series and assign them to a NumPy array. "
   ]
  },
  {
   "cell_type": "code",
   "execution_count": 29,
   "metadata": {},
   "outputs": [],
   "source": [
    "abv_series = beers['abv'] #accessing the elements in the abv column\n",
    "abv_clean = abv_series.dropna() #drops all the NAN values in the abv column using the .dropna() function\n",
    "abv_new = abv_clean.to_numpy() #converts the abv series to a numpy array using the .to_numpy() function"
   ]
  },
  {
   "cell_type": "markdown",
   "metadata": {},
   "source": [
    "#### Check out the length of abv"
   ]
  },
  {
   "cell_type": "code",
   "execution_count": 30,
   "metadata": {},
   "outputs": [
    {
     "output_type": "execute_result",
     "data": {
      "text/plain": [
       "2410"
      ]
     },
     "metadata": {},
     "execution_count": 30
    }
   ],
   "source": [
    "len(abv_series) #checks the lenght of the abv series using the len function in python"
   ]
  },
  {
   "cell_type": "markdown",
   "metadata": {},
   "source": [
    "Another advantage of `pandas` is that it has the ability to handle missing data. The  data-frame method `dropna()` returns a new data frame with only the good values of the original: all the null values are thrown out. This is super useful!"
   ]
  },
  {
   "cell_type": "markdown",
   "metadata": {},
   "source": [
    " ####  Check out the length of the cleaned-up `abv` data; you'll see that it's shorter than the original. `NaN`s gone!"
   ]
  },
  {
   "cell_type": "code",
   "execution_count": 31,
   "metadata": {},
   "outputs": [
    {
     "output_type": "execute_result",
     "data": {
      "text/plain": [
       "2348"
      ]
     },
     "metadata": {},
     "execution_count": 31
    }
   ],
   "source": [
    "len(abv_new)"
   ]
  },
  {
   "cell_type": "markdown",
   "metadata": {},
   "source": [
    "Remember that a a `pandas` _Series_ consists of a column of values, and their labels. You can extract the values via the [`series.values`](https://pandas.pydata.org/pandas-docs/stable/generated/pandas.Series.values.html) attribute, which returns a `numpy.ndarray` (multidimensional array). In the case of the `abv_clean` series, you get a one-dimensional array. We save it into the variable name `abv`. "
   ]
  },
  {
   "cell_type": "code",
   "execution_count": 32,
   "metadata": {},
   "outputs": [],
   "source": [
    "abv = abv_clean.values"
   ]
  },
  {
   "cell_type": "code",
   "execution_count": 33,
   "metadata": {},
   "outputs": [
    {
     "output_type": "stream",
     "name": "stdout",
     "text": [
      "[0.05  0.066 0.071 ... 0.055 0.055 0.052]\n"
     ]
    }
   ],
   "source": [
    "print(abv)"
   ]
  },
  {
   "cell_type": "code",
   "execution_count": 34,
   "metadata": {},
   "outputs": [
    {
     "output_type": "execute_result",
     "data": {
      "text/plain": [
       "numpy.ndarray"
      ]
     },
     "metadata": {},
     "execution_count": 34
    }
   ],
   "source": [
    "type(abv)"
   ]
  },
  {
   "cell_type": "markdown",
   "metadata": {},
   "source": [
    "## Exercise: Now, repeat the whole process for the `ibu` column: \n",
    "#### extract the column into a series, clean it up removing `NaN`s, extract the series values as an array, check how many values we lost."
   ]
  },
  {
   "cell_type": "code",
   "execution_count": 35,
   "metadata": {},
   "outputs": [],
   "source": [
    "ibu_series = beers['ibu'] #accessing the elements in the ibu column\n",
    "ibu_clean = ibu_series.dropna() #drops all the NAN values in the ibu column using the .dropna() function\n",
    "ibu_new = ibu_clean.to_numpy()  #converts the ibu series to a numpy array using the .to_numpy() function"
   ]
  },
  {
   "cell_type": "code",
   "execution_count": 36,
   "metadata": {},
   "outputs": [
    {
     "output_type": "execute_result",
     "data": {
      "text/plain": [
       "2410"
      ]
     },
     "metadata": {},
     "execution_count": 36
    }
   ],
   "source": [
    "len(ibu_series)"
   ]
  },
  {
   "cell_type": "code",
   "execution_count": 37,
   "metadata": {},
   "outputs": [
    {
     "output_type": "execute_result",
     "data": {
      "text/plain": [
       "1405"
      ]
     },
     "metadata": {},
     "execution_count": 37
    }
   ],
   "source": [
    "len(ibu_new)"
   ]
  },
  {
   "cell_type": "code",
   "execution_count": 38,
   "metadata": {},
   "outputs": [
    {
     "output_type": "execute_result",
     "data": {
      "text/plain": [
       "1005"
      ]
     },
     "metadata": {},
     "execution_count": 38
    }
   ],
   "source": [
    "ibu_missing= (len(ibu_series)) - (len(ibu_new))\n",
    "ibu_missing"
   ]
  },
  {
   "cell_type": "code",
   "execution_count": 48,
   "metadata": {},
   "outputs": [],
   "source": [
    "ibu = ibu_clean.values"
   ]
  },
  {
   "cell_type": "markdown",
   "metadata": {},
   "source": [
    "##### Exercise\n",
    "\n",
    "Write a Python function that calculates the percentage of missing values for a certain data series. Use the function to calculate the percentage of missing values for the `abv` and `ibu` data sets. \n",
    "\n",
    "For the original series, before cleaning, remember that you can access the values with `series.values` (e.g., `abv_series.values`)."
   ]
  },
  {
   "cell_type": "code",
   "execution_count": 39,
   "metadata": {},
   "outputs": [
    {
     "output_type": "execute_result",
     "data": {
      "text/plain": [
       "array([0.05 , 0.066, 0.071, ..., 0.055, 0.055, 0.052])"
      ]
     },
     "metadata": {},
     "execution_count": 39
    }
   ],
   "source": [
    "abv_series.values"
   ]
  },
  {
   "cell_type": "code",
   "execution_count": 40,
   "metadata": {},
   "outputs": [
    {
     "output_type": "stream",
     "name": "stdout",
     "text": [
      "The percentage missing value for abv is giving as 2.57%\n"
     ]
    }
   ],
   "source": [
    "\n",
    "#write a function that calculates the percentage of missing values of each data series (abv_series)\n",
    "def percent_missing(abv_series):\n",
    "    abv_len_1 = len(abv_series)\n",
    "    abv_len_2 = len(abv_new)\n",
    "    abv_missing = ((abv_len_1) - (abv_len_2)) / abv_len_1\n",
    "    percent_missing_abv = abv_missing * 100\n",
    "    print('The percentage missing value for abv is giving as {:.2f}%'.format(percent_missing_abv))\n",
    "    \"\"\"\n",
    "    function that returns the percentage of missing value from the abv_series within the data set\n",
    "        for example: before_cleaning, len(abv_series) is 2410\n",
    "                 after_cleaning, len(abv_clean) is 2348\n",
    "       percent_length_change = (len(abv_series) - len(abv_clean)) / 100\n",
    "    \"\"\"\n",
    "\n",
    "percent_missing(abv_series)"
   ]
  },
  {
   "cell_type": "code",
   "execution_count": 41,
   "metadata": {},
   "outputs": [
    {
     "output_type": "stream",
     "name": "stdout",
     "text": [
      "The percentage missing value for abv is giving as 41.70%\n"
     ]
    }
   ],
   "source": [
    "def percent_missing(ibu_series):\n",
    "    ibu_len_1 = len(ibu_series)\n",
    "    ibu_len_2 = len(ibu_new)\n",
    "    percent_ibu_missing= (((ibu_len_1) - (ibu_len_2)) / ibu_len_1) * 100\n",
    "    print('The percentage missing value for abv is giving as {:.2f}%'.format(percent_ibu_missing))\n",
    "\n",
    "\n",
    "percent_missing(ibu_series)"
   ]
  },
  {
   "cell_type": "markdown",
   "metadata": {},
   "source": [
    "##### Important:\n",
    "\n",
    "Notice that in the case of the variable `ibu` we are missing almost 42% of the values. This is important, because it will affect our analysis. When we do descriptive statistics, we will ignore these missing values, and having 42% missing will very likely cause bias."
   ]
  },
  {
   "cell_type": "markdown",
   "metadata": {},
   "source": [
    "## Step 3: Ready, stats, go!\n",
    "\n",
    "\n",
    "Now that we have NumPy arrays with clean data, let's see how we can manipulate them to get some useful information. \n",
    "\n",
    "Focusing on the numerical variables `abv` and `ibu`, we'll walk through some \"descriptive statistics,\" below. In other words, we aim to generate statistics that summarize the data concisely."
   ]
  },
  {
   "cell_type": "markdown",
   "metadata": {},
   "source": [
    "### Maximum and minimum \n",
    "\n",
    "The maximum and minimum values of a dataset are helpful as they tell us the _range_ of our sample: the range gives some indication of the _variability_ in the data.\n",
    "We can obtain them for our `abv` and `ibu` arrays with the `min()` and `max()` functions from NumPy."
   ]
  },
  {
   "cell_type": "markdown",
   "metadata": {},
   "source": [
    "**abv**"
   ]
  },
  {
   "cell_type": "code",
   "execution_count": 44,
   "metadata": {},
   "outputs": [],
   "source": [
    "abv_min = np.min(abv)\n",
    "abv_max = np.max(abv)"
   ]
  },
  {
   "cell_type": "code",
   "execution_count": 45,
   "metadata": {},
   "outputs": [
    {
     "output_type": "stream",
     "name": "stdout",
     "text": [
      "The minimum value for abv is:  0.001\nThe maximum value for abv is:  0.128\n"
     ]
    }
   ],
   "source": [
    "print('The minimum value for abv is: ', abv_min)\n",
    "print('The maximum value for abv is: ', abv_max)"
   ]
  },
  {
   "cell_type": "markdown",
   "metadata": {},
   "source": [
    "**ibu**"
   ]
  },
  {
   "cell_type": "code",
   "execution_count": 49,
   "metadata": {},
   "outputs": [],
   "source": [
    "ibu_min = np.min(ibu)\n",
    "ibu_max = np.max(ibu)"
   ]
  },
  {
   "cell_type": "code",
   "execution_count": 50,
   "metadata": {},
   "outputs": [
    {
     "output_type": "stream",
     "name": "stdout",
     "text": [
      "The minimum value for ibu is:  4.0\nThe maximum value for ibu is:  138.0\n"
     ]
    }
   ],
   "source": [
    "print('The minimum value for ibu is: ', ibu_min)\n",
    "print('The maximum value for ibu is: ', ibu_max)"
   ]
  },
  {
   "cell_type": "markdown",
   "metadata": {},
   "source": [
    "### Mean value\n",
    "\n",
    "The **mean** value is one of the main measures to describe the central tendency of the data: an indication of where's the \"center\" of the data. If we have a sample of $N$ values, $x_i$, the mean, $\\bar{x}$, is calculated by:\n",
    "\n",
    "\\begin{equation*}\n",
    "    \\bar{x} = \\frac{1}{N}\\sum_{i} x_i\n",
    "\\end{equation*}\n",
    "\n",
    "In words, that is the sum of the data values divided by the number of values, $N$. \n",
    "\n",
    "You've already learned how to write a function to compute the mean in [Module 1 Lesson 5](http://go.gwu.edu/engcomp1lesson5), but you also learned that NumPy has a built-in `mean()` function. We'll use this to get the mean of the `abv` and `ibu` values."
   ]
  },
  {
   "cell_type": "code",
   "execution_count": 63,
   "metadata": {},
   "outputs": [],
   "source": [
    "abv_mean = np.mean(abv)\n",
    "ibu_mean = np.mean(ibu)"
   ]
  },
  {
   "cell_type": "markdown",
   "metadata": {},
   "source": [
    "Next, we'll print these two variables, but we'll use some fancy new way of printing with Python's string formatter, `string.format()`. There's a sweet site dedicated to Python's string formatter, called [PyFormat](https://pyformat.info), where you can learn lots of tricks!\n",
    "\n",
    "The basic trick is to use curly brackets `{}` as placeholder for a variable value that you want to print in the middle of a string (say, a sentence that explains what you are printing), and to pass the variable name as argument to `.format()`, preceded by the string.\n",
    "\n",
    "Let's try something out…"
   ]
  },
  {
   "cell_type": "code",
   "execution_count": 53,
   "metadata": {},
   "outputs": [
    {
     "output_type": "stream",
     "name": "stdout",
     "text": [
      "The mean value for abv is 0.059773424190800666 and for ibu 42.71316725978647\n"
     ]
    }
   ],
   "source": [
    "print('The mean value for abv is {} and for ibu {}'.format(abv_mean, ibu_mean))"
   ]
  },
  {
   "cell_type": "markdown",
   "metadata": {},
   "source": [
    "Ugh! That doesn't look very good, does it? Here's where Python's string formatting gets fancy. We can print fewer decimal digits, so the sentence is more readable. For example, if we want to have four decimal digits, we specify it this way:"
   ]
  },
  {
   "cell_type": "code",
   "execution_count": 54,
   "metadata": {},
   "outputs": [
    {
     "output_type": "stream",
     "name": "stdout",
     "text": [
      "The mean value for abv is 0.0598 and for ibu 42.7132\n"
     ]
    }
   ],
   "source": [
    "print('The mean value for abv is {:.4f} and for ibu {:.4f}'.format(abv_mean, ibu_mean))"
   ]
  },
  {
   "cell_type": "markdown",
   "metadata": {},
   "source": [
    "Inside the curly brackets—the placeholders for the values we want to print—the `f` is for `float` and the `.4` is for four digits after the decimal dot. The colon here marks the beginning of the format specification (as there are options that can be passed before). There are so many tricks to Python's string formatter that you'll usually look up just what you need.\n",
    "Another useful resource for string formatting is the [Python String Format Cookbook](https://mkaz.blog/code/python-string-format-cookbook/). Check it out!"
   ]
  },
  {
   "cell_type": "markdown",
   "metadata": {},
   "source": [
    "### Variance and standard deviation\n",
    "\n",
    "While the mean indicates where's the center of your data, the **variance** and **standard deviation** describe the *spread* or variability of the data. We already mentioned that the _range_ (difference between largest and smallest data values) is also an indication of variability. But the standard deviation is the most common measure of variability.\n",
    "\n",
    "We really like the way [Prof. Kristin Sainani](https://profiles.stanford.edu/kristin-sainani), of Stanford University, presents this in her online course on [Statistics in Medicine](https://lagunita.stanford.edu/courses/Medicine/MedStats-SP/SelfPaced/about). In her lecture \"Describing Quantitative Data: Whhat is the variability in the data?\", available [on YouTube](https://youtu.be/hlFeEQF5tDc), she asks: _What if someone were to ask you to devise a statistic that gives the avarage distance from the mean?_ Think about this a little bit.\n",
    "\n",
    "The distance from the mean, for any data value, is $x_i - \\bar{x}$. So what is the average of the distances from the mean? If we try to simply compute the average of all the values $x_i - \\bar{x}$, some of which are negative, you'll just get zero! It doesn't work.\n",
    "\n",
    "Since the problem is the negative distances from the mean, you might suggest using absolute values. But this is just mathematically inconvenient. Another way to get rid of negative values is to take the squares. And that's how we get to the expression for the _variance_: it is the average of the squares of the deviations from the mean. For a set of $N$ values,\n",
    "\n",
    "\\begin{equation*}\n",
    "     \\text{var} = \\frac{1}{N}\\sum_{i} (x_i - \\bar{x})^2\n",
    "\\end{equation*}\n",
    "\n",
    "\n",
    "The variance itself is hard to interpret. The problem with it is that the units are strange (they are the square of the original units). The **standard deviation**, the square root of the variance, is more meaningful because it has the same units as the original variable. Often, the symbol $\\sigma$ is used for it:\n",
    "\n",
    "\\begin{equation*} \n",
    "    \\sigma = \\sqrt{\\text{var}} = \\sqrt{\\frac{1}{N}\\sum_{i} (x_i - \\bar{x})^2}\n",
    "\\end{equation*}"
   ]
  },
  {
   "cell_type": "markdown",
   "metadata": {},
   "source": [
    "### Sample vs. population\n",
    "\n",
    "The above definitions are used when $N$ (the number of values) represents the entire population. But if we have a _sample_ of that population, the formulas have to be adjusted: instead of dividing by $N$ we divide by $N-1$. This is important, especially when we work with real data since usually we have samples of populations. \n",
    "\n",
    "The **standard deviation** of a sample is denoted by $s$, and the formula is:\n",
    "\n",
    "\\begin{equation*}     \n",
    "     s = \\sqrt{\\frac{1}{N-1}\\sum_{i} (x_i - \\bar{x})^2}\n",
    "\\end{equation*}\n",
    "\n",
    "Why? This gets a little technical, but the reason is that if you have a _sample_ of the population, you don't know the _real_ value of the mean, and $\\bar{x}$ is actually an _estimate_ of the mean. That's why you'll often find the symbol $\\mu$ used to denote the population mean, and distinguish it with the sample mean, $\\bar{x}$. Using $\\bar{x}$ to compute the standard deviation introduces a small bias: $\\bar{x}$ is computed _from the sample values_, and the data are on average (slightly) closer to $\\bar{x}$ than the population is to $\\mu$. Dividing by $N-1$ instead of $N$ corrects this bias!\n",
    "\n",
    "Prof. Sainani explains it by saying that we lost one degree of freedom when we estimated the mean using $\\bar{x}$.  For example, say we have 100 people and I give you their mean age, and the actual age for 99 people from the sample: you'll be able to calculate the age of that 100th person. Once we calculated the mean, we only have 99 degrees of freedom left because that 100th person's age is fixed. "
   ]
  },
  {
   "cell_type": "markdown",
   "metadata": {},
   "source": [
    "### Let's code!\n",
    "\n",
    "Now that we have the math sorted out, we can program functions to compute the variance and the standard deviation. In our case, we are working with samples of the population of craft beers, so we need to use the formulas with $N-1$ in the denominator. "
   ]
  },
  {
   "cell_type": "code",
   "execution_count": 59,
   "metadata": {},
   "outputs": [
    {
     "output_type": "execute_result",
     "data": {
      "text/plain": [
       "0.0001833004521590745"
      ]
     },
     "metadata": {},
     "execution_count": 59
    }
   ],
   "source": [
    "def sample_var(abv):\n",
    "    sample_size = len(abv) #first we know the sample size\n",
    "    abv_mean = np.mean(abv) #then we have the mean value\n",
    "\n",
    "    \"\"\" Calculates the variance of an array that contains values of a sample of a \n",
    "    population. \n",
    "    \n",
    "    Arguments\n",
    "    ---------\n",
    "    array : array, contains sample of values. \n",
    "    \n",
    "    Returns\n",
    "    -------\n",
    "    var   : float, variance of the array .\n",
    "    \"\"\"\n",
    "\n",
    "    #variance = (1/n) * sum((x - mean)**2)\n",
    "    square_diff = (abv - abv_mean)**2\n",
    "\n",
    "    var = (1/sample_size) * sum(square_diff)\n",
    "    return var\n",
    "\n",
    "\n",
    "sample_var(abv)\n"
   ]
  },
  {
   "cell_type": "code",
   "execution_count": 60,
   "metadata": {},
   "outputs": [
    {
     "output_type": "execute_result",
     "data": {
      "text/plain": [
       "0.21269365564990625"
      ]
     },
     "metadata": {},
     "execution_count": 60
    }
   ],
   "source": [
    "#To calculate for the variance of ibu.\n",
    "\n",
    "def sample_var(abv_clean, abv_mean):\n",
    "    ibu_clean = ibu_series.dropna()\n",
    "    ibu_mean = np.mean(ibu)\n",
    "    arr_2 = len(ibu_clean)\n",
    "    \n",
    "    for i in ibu_clean:\n",
    "        var_2 = (i - ibu_mean)**2\n",
    "        data_variance_2 = var_2 / arr_2\n",
    "        return data_variance_2\n",
    "\n",
    "sample_var(ibu_clean, ibu_mean)\n"
   ]
  },
  {
   "cell_type": "markdown",
   "metadata": {},
   "source": [
    "If you have used `numpy.mean()` in the implementation: can you search on the documentation if there is a more efficient function? \n",
    "\n",
    "*Hint:* Yes!, there is.\n",
    "\n",
    "##### Exercise:\n",
    "\n",
    "Re-write the function `sample_var()` using `numpy.sum()` to replace the `for`-loop. Name the function `var_pythonic`."
   ]
  },
  {
   "cell_type": "code",
   "execution_count": null,
   "metadata": {},
   "outputs": [],
   "source": []
  },
  {
   "cell_type": "markdown",
   "metadata": {},
   "source": [
    "We have the sample variance, so we take its square root to get the standard deviation. We can make it a function, even though it's just one line of Python, to make our code more readable:"
   ]
  },
  {
   "cell_type": "code",
   "execution_count": 65,
   "metadata": {},
   "outputs": [],
   "source": [
    "def sample_std(array):\n",
    "    var = sample_var(array)\n",
    "    std = np.sqrt(var)\n",
    "    \"\"\" Computes the standard deviation of an array that contains values\n",
    "    of a sample of a population.\n",
    "    \n",
    "    Arguments\n",
    "    ---------\n",
    "    array : array, contains sample of values. \n",
    "    \n",
    "    Returns\n",
    "    -------\n",
    "    std   : float, standard deviation of the array.\n",
    "    \"\"\"\n",
    "    \n",
    "    return std"
   ]
  },
  {
   "cell_type": "markdown",
   "metadata": {},
   "source": [
    "Let's call our brand new functions and assign the output values to new variables:"
   ]
  },
  {
   "cell_type": "code",
   "execution_count": 68,
   "metadata": {},
   "outputs": [],
   "source": [
    "abv_std = sample_std(abv)\n",
    "ibu_std = sample_std(ibu)"
   ]
  },
  {
   "cell_type": "markdown",
   "metadata": {},
   "source": [
    "If we print these values using the string formatter, only printing 4 decimal digits, we can display our descriptive statistics in a pleasant, human-readable way."
   ]
  },
  {
   "cell_type": "code",
   "execution_count": 143,
   "metadata": {},
   "outputs": [
    {
     "output_type": "stream",
     "name": "stdout",
     "text": [
      "The standard deviation for abv is 0.0135 and for ibu 25.9448\n"
     ]
    }
   ],
   "source": [
    "print('The standard deviation for abv is {:.4f} and for ibu {:.4f}'.format(abv_std, ibu_std))"
   ]
  },
  {
   "cell_type": "markdown",
   "metadata": {},
   "source": [
    "These numbers tell us that the `abv` values are quite concentrated around the mean value, while the `ibu` values are quite spread out from their mean. How could we check these descriptions of the data? A good way of doing so is using graphics: various types of plots can tell us things about the data. \n",
    "\n",
    "We'll learn about _histograms_ in this lesson, and in the following lesson we'll explore _box plots_. "
   ]
  },
  {
   "cell_type": "markdown",
   "metadata": {
    "collapsed": true
   },
   "source": [
    "## Step 4: Distribution plots \n",
    "\n",
    "Every time that we work with data, visualizing it is very useful. Visualizations give us a better idea of how our data behaves. One way of visualizing data is with a frequency-distribution plot known as **histogram**: a graphical representation of how the data is distributed. To make a histogram, first we need to \"bin\" the range of values (divide the range into intervals) and then we count how many data values fall into each interval. The intervals are usually consecutive (not always), of equal size and non-overlapping. \n",
    "\n",
    "Thanks to Python and Matplotlib, making histograms is easy. We recommend that you always read the documentation, in this case about [histograms](https://matplotlib.org/devdocs/api/_as_gen/matplotlib.pyplot.hist.html). We'll show you here an example using the `hist()` function from `pyplot`, but this is just a starting point. \n",
    "\n",
    "Let's import the libraries that we need for plotting, as you learned in [Module 1 Lesson 5](http://go.gwu.edu/engcomp1lesson5), then study the plotting commands used below. Try changing some of the plot options and seeing the effect."
   ]
  },
  {
   "cell_type": "code",
   "execution_count": 1,
   "metadata": {},
   "outputs": [],
   "source": [
    "from matplotlib import pyplot\n",
    "%matplotlib inline\n",
    "\n",
    "#Import rcParams to set font styles\n",
    "from matplotlib import rcParams\n",
    "\n",
    "#Set font style and size \n",
    "rcParams['font.family'] = 'serif'\n",
    "rcParams['font.size'] = 16"
   ]
  },
  {
   "cell_type": "code",
   "execution_count": 67,
   "metadata": {},
   "outputs": [
    {
     "output_type": "display_data",
     "data": {
      "text/plain": "<Figure size 720x360 with 1 Axes>",
      "image/svg+xml": "<?xml version=\"1.0\" encoding=\"utf-8\" standalone=\"no\"?>\n<!DOCTYPE svg PUBLIC \"-//W3C//DTD SVG 1.1//EN\"\n  \"http://www.w3.org/Graphics/SVG/1.1/DTD/svg11.dtd\">\n<!-- Created with matplotlib (https://matplotlib.org/) -->\n<svg height=\"370.4863pt\" version=\"1.1\" viewBox=\"0 0 629.425 370.4863\" width=\"629.425pt\" xmlns=\"http://www.w3.org/2000/svg\" xmlns:xlink=\"http://www.w3.org/1999/xlink\">\n <metadata>\n  <rdf:RDF xmlns:cc=\"http://creativecommons.org/ns#\" xmlns:dc=\"http://purl.org/dc/elements/1.1/\" xmlns:rdf=\"http://www.w3.org/1999/02/22-rdf-syntax-ns#\">\n   <cc:Work>\n    <dc:type rdf:resource=\"http://purl.org/dc/dcmitype/StillImage\"/>\n    <dc:date>2021-04-07T13:34:42.420999</dc:date>\n    <dc:format>image/svg+xml</dc:format>\n    <dc:creator>\n     <cc:Agent>\n      <dc:title>Matplotlib v3.3.4, https://matplotlib.org/</dc:title>\n     </cc:Agent>\n    </dc:creator>\n   </cc:Work>\n  </rdf:RDF>\n </metadata>\n <defs>\n  <style type=\"text/css\">*{stroke-linecap:butt;stroke-linejoin:round;}</style>\n </defs>\n <g id=\"figure_1\">\n  <g id=\"patch_1\">\n   <path d=\"M 0 370.4863 \nL 629.425 370.4863 \nL 629.425 0 \nL 0 0 \nz\n\" style=\"fill:none;\"/>\n  </g>\n  <g id=\"axes_1\">\n   <g id=\"patch_2\">\n    <path d=\"M 64.225 321.0888 \nL 622.225 321.0888 \nL 622.225 49.2888 \nL 64.225 49.2888 \nz\n\" style=\"fill:#ffffff;\"/>\n   </g>\n   <g id=\"patch_3\">\n    <path clip-path=\"url(#p15a51bf664)\" d=\"M 89.588636 321.0888 \nL 114.952273 321.0888 \nL 114.952273 320.625728 \nL 89.588636 320.625728 \nz\n\" style=\"fill:#3498db;stroke:#ffffff;stroke-linejoin:miter;\"/>\n   </g>\n   <g id=\"patch_4\">\n    <path clip-path=\"url(#p15a51bf664)\" d=\"M 114.952273 321.0888 \nL 140.315909 321.0888 \nL 140.315909 321.0888 \nL 114.952273 321.0888 \nz\n\" style=\"fill:#3498db;stroke:#ffffff;stroke-linejoin:miter;\"/>\n   </g>\n   <g id=\"patch_5\">\n    <path clip-path=\"url(#p15a51bf664)\" d=\"M 140.315909 321.0888 \nL 165.679545 321.0888 \nL 165.679545 321.0888 \nL 140.315909 321.0888 \nz\n\" style=\"fill:#3498db;stroke:#ffffff;stroke-linejoin:miter;\"/>\n   </g>\n   <g id=\"patch_6\">\n    <path clip-path=\"url(#p15a51bf664)\" d=\"M 165.679545 321.0888 \nL 191.043182 321.0888 \nL 191.043182 321.0888 \nL 165.679545 321.0888 \nz\n\" style=\"fill:#3498db;stroke:#ffffff;stroke-linejoin:miter;\"/>\n   </g>\n   <g id=\"patch_7\">\n    <path clip-path=\"url(#p15a51bf664)\" d=\"M 191.043182 321.0888 \nL 216.406818 321.0888 \nL 216.406818 318.310369 \nL 191.043182 318.310369 \nz\n\" style=\"fill:#3498db;stroke:#ffffff;stroke-linejoin:miter;\"/>\n   </g>\n   <g id=\"patch_8\">\n    <path clip-path=\"url(#p15a51bf664)\" d=\"M 216.406818 321.0888 \nL 241.770455 321.0888 \nL 241.770455 306.270502 \nL 216.406818 306.270502 \nz\n\" style=\"fill:#3498db;stroke:#ffffff;stroke-linejoin:miter;\"/>\n   </g>\n   <g id=\"patch_9\">\n    <path clip-path=\"url(#p15a51bf664)\" d=\"M 241.770455 321.0888 \nL 267.134091 321.0888 \nL 267.134091 227.548294 \nL 241.770455 227.548294 \nz\n\" style=\"fill:#3498db;stroke:#ffffff;stroke-linejoin:miter;\"/>\n   </g>\n   <g id=\"patch_10\">\n    <path clip-path=\"url(#p15a51bf664)\" d=\"M 267.134091 321.0888 \nL 292.497727 321.0888 \nL 292.497727 90.942109 \nL 267.134091 90.942109 \nz\n\" style=\"fill:#3498db;stroke:#ffffff;stroke-linejoin:miter;\"/>\n   </g>\n   <g id=\"patch_11\">\n    <path clip-path=\"url(#p15a51bf664)\" d=\"M 292.497727 321.0888 \nL 317.861364 321.0888 \nL 317.861364 62.231657 \nL 292.497727 62.231657 \nz\n\" style=\"fill:#3498db;stroke:#ffffff;stroke-linejoin:miter;\"/>\n   </g>\n   <g id=\"patch_12\">\n    <path clip-path=\"url(#p15a51bf664)\" d=\"M 317.861364 321.0888 \nL 343.225 321.0888 \nL 343.225 183.0934 \nL 317.861364 183.0934 \nz\n\" style=\"fill:#3498db;stroke:#ffffff;stroke-linejoin:miter;\"/>\n   </g>\n   <g id=\"patch_13\">\n    <path clip-path=\"url(#p15a51bf664)\" d=\"M 343.225 321.0888 \nL 368.588636 321.0888 \nL 368.588636 161.792097 \nL 343.225 161.792097 \nz\n\" style=\"fill:#3498db;stroke:#ffffff;stroke-linejoin:miter;\"/>\n   </g>\n   <g id=\"patch_14\">\n    <path clip-path=\"url(#p15a51bf664)\" d=\"M 368.588636 321.0888 \nL 393.952273 321.0888 \nL 393.952273 255.332603 \nL 368.588636 255.332603 \nz\n\" style=\"fill:#3498db;stroke:#ffffff;stroke-linejoin:miter;\"/>\n   </g>\n   <g id=\"patch_15\">\n    <path clip-path=\"url(#p15a51bf664)\" d=\"M 393.952273 321.0888 \nL 419.315909 321.0888 \nL 419.315909 271.077044 \nL 393.952273 271.077044 \nz\n\" style=\"fill:#3498db;stroke:#ffffff;stroke-linejoin:miter;\"/>\n   </g>\n   <g id=\"patch_16\">\n    <path clip-path=\"url(#p15a51bf664)\" d=\"M 419.315909 321.0888 \nL 444.679545 321.0888 \nL 444.679545 297.472138 \nL 419.315909 297.472138 \nz\n\" style=\"fill:#3498db;stroke:#ffffff;stroke-linejoin:miter;\"/>\n   </g>\n   <g id=\"patch_17\">\n    <path clip-path=\"url(#p15a51bf664)\" d=\"M 444.679545 321.0888 \nL 470.043182 321.0888 \nL 470.043182 293.304491 \nL 444.679545 293.304491 \nz\n\" style=\"fill:#3498db;stroke:#ffffff;stroke-linejoin:miter;\"/>\n   </g>\n   <g id=\"patch_18\">\n    <path clip-path=\"url(#p15a51bf664)\" d=\"M 470.043182 321.0888 \nL 495.406818 321.0888 \nL 495.406818 300.71364 \nL 470.043182 300.71364 \nz\n\" style=\"fill:#3498db;stroke:#ffffff;stroke-linejoin:miter;\"/>\n   </g>\n   <g id=\"patch_19\">\n    <path clip-path=\"url(#p15a51bf664)\" d=\"M 495.406818 321.0888 \nL 520.770455 321.0888 \nL 520.770455 320.625728 \nL 495.406818 320.625728 \nz\n\" style=\"fill:#3498db;stroke:#ffffff;stroke-linejoin:miter;\"/>\n   </g>\n   <g id=\"patch_20\">\n    <path clip-path=\"url(#p15a51bf664)\" d=\"M 520.770455 321.0888 \nL 546.134091 321.0888 \nL 546.134091 321.0888 \nL 520.770455 321.0888 \nz\n\" style=\"fill:#3498db;stroke:#ffffff;stroke-linejoin:miter;\"/>\n   </g>\n   <g id=\"patch_21\">\n    <path clip-path=\"url(#p15a51bf664)\" d=\"M 546.134091 321.0888 \nL 571.497727 321.0888 \nL 571.497727 320.625728 \nL 546.134091 320.625728 \nz\n\" style=\"fill:#3498db;stroke:#ffffff;stroke-linejoin:miter;\"/>\n   </g>\n   <g id=\"patch_22\">\n    <path clip-path=\"url(#p15a51bf664)\" d=\"M 571.497727 321.0888 \nL 596.861364 321.0888 \nL 596.861364 320.162656 \nL 571.497727 320.162656 \nz\n\" style=\"fill:#3498db;stroke:#ffffff;stroke-linejoin:miter;\"/>\n   </g>\n   <g id=\"matplotlib.axis_1\">\n    <g id=\"xtick_1\">\n     <g id=\"line2d_1\">\n      <defs>\n       <path d=\"M 0 0 \nL 0 3.5 \n\" id=\"m91b6e63aa0\" style=\"stroke:#000000;stroke-width:0.8;\"/>\n      </defs>\n      <g>\n       <use style=\"stroke:#000000;stroke-width:0.8;\" x=\"85.594363\" xlink:href=\"#m91b6e63aa0\" y=\"321.0888\"/>\n      </g>\n     </g>\n     <g id=\"text_1\">\n      <!-- 0.00 -->\n      <g transform=\"translate(67.781863 340.2463)scale(0.16 -0.16)\">\n       <defs>\n        <path d=\"M 31.78125 3.421875 \nQ 39.265625 3.421875 42.96875 11.625 \nQ 46.6875 19.828125 46.6875 36.375 \nQ 46.6875 52.984375 42.96875 61.1875 \nQ 39.265625 69.390625 31.78125 69.390625 \nQ 24.3125 69.390625 20.59375 61.1875 \nQ 16.890625 52.984375 16.890625 36.375 \nQ 16.890625 19.828125 20.59375 11.625 \nQ 24.3125 3.421875 31.78125 3.421875 \nz\nM 31.78125 -1.421875 \nQ 19.921875 -1.421875 13.25 8.53125 \nQ 6.59375 18.5 6.59375 36.375 \nQ 6.59375 54.296875 13.25 64.25 \nQ 19.921875 74.21875 31.78125 74.21875 \nQ 43.703125 74.21875 50.34375 64.25 \nQ 56.984375 54.296875 56.984375 36.375 \nQ 56.984375 18.5 50.34375 8.53125 \nQ 43.703125 -1.421875 31.78125 -1.421875 \nz\n\" id=\"DejaVuSerif-48\"/>\n        <path d=\"M 9.421875 5.078125 \nQ 9.421875 7.8125 11.28125 9.71875 \nQ 13.140625 11.625 15.921875 11.625 \nQ 18.609375 11.625 20.5 9.71875 \nQ 22.40625 7.8125 22.40625 5.078125 \nQ 22.40625 2.390625 20.5 0.484375 \nQ 18.609375 -1.421875 15.921875 -1.421875 \nQ 13.140625 -1.421875 11.28125 0.453125 \nQ 9.421875 2.34375 9.421875 5.078125 \nz\n\" id=\"DejaVuSerif-46\"/>\n       </defs>\n       <use xlink:href=\"#DejaVuSerif-48\"/>\n       <use x=\"63.623047\" xlink:href=\"#DejaVuSerif-46\"/>\n       <use x=\"95.410156\" xlink:href=\"#DejaVuSerif-48\"/>\n       <use x=\"159.033203\" xlink:href=\"#DejaVuSerif-48\"/>\n      </g>\n     </g>\n    </g>\n    <g id=\"xtick_2\">\n     <g id=\"line2d_2\">\n      <g>\n       <use style=\"stroke:#000000;stroke-width:0.8;\" x=\"165.479832\" xlink:href=\"#m91b6e63aa0\" y=\"321.0888\"/>\n      </g>\n     </g>\n     <g id=\"text_2\">\n      <!-- 0.02 -->\n      <g transform=\"translate(147.667332 340.2463)scale(0.16 -0.16)\">\n       <defs>\n        <path d=\"M 12.796875 55.515625 \nL 7.328125 55.515625 \nL 7.328125 68.5 \nQ 12.546875 71.296875 17.84375 72.75 \nQ 23.140625 74.21875 28.21875 74.21875 \nQ 39.59375 74.21875 46.1875 68.703125 \nQ 52.78125 63.1875 52.78125 53.71875 \nQ 52.78125 43.015625 37.84375 28.125 \nQ 36.671875 27 36.078125 26.421875 \nL 17.671875 8.015625 \nL 48.09375 8.015625 \nL 48.09375 17 \nL 53.8125 17 \nL 53.8125 0 \nL 6.78125 0 \nL 6.78125 5.328125 \nL 28.90625 27.390625 \nQ 36.234375 34.71875 39.359375 40.84375 \nQ 42.484375 46.96875 42.484375 53.71875 \nQ 42.484375 61.078125 38.640625 65.234375 \nQ 34.8125 69.390625 28.078125 69.390625 \nQ 21.09375 69.390625 17.28125 65.921875 \nQ 13.484375 62.453125 12.796875 55.515625 \nz\n\" id=\"DejaVuSerif-50\"/>\n       </defs>\n       <use xlink:href=\"#DejaVuSerif-48\"/>\n       <use x=\"63.623047\" xlink:href=\"#DejaVuSerif-46\"/>\n       <use x=\"95.410156\" xlink:href=\"#DejaVuSerif-48\"/>\n       <use x=\"159.033203\" xlink:href=\"#DejaVuSerif-50\"/>\n      </g>\n     </g>\n    </g>\n    <g id=\"xtick_3\">\n     <g id=\"line2d_3\">\n      <g>\n       <use style=\"stroke:#000000;stroke-width:0.8;\" x=\"245.365301\" xlink:href=\"#m91b6e63aa0\" y=\"321.0888\"/>\n      </g>\n     </g>\n     <g id=\"text_3\">\n      <!-- 0.04 -->\n      <g transform=\"translate(227.552801 340.2463)scale(0.16 -0.16)\">\n       <defs>\n        <path d=\"M 34.90625 24.703125 \nL 34.90625 63.484375 \nL 10.015625 24.703125 \nz\nM 56.390625 0 \nL 23.1875 0 \nL 23.1875 5.171875 \nL 34.90625 5.171875 \nL 34.90625 19.484375 \nL 3.078125 19.484375 \nL 3.078125 24.8125 \nL 35.015625 74.21875 \nL 44.671875 74.21875 \nL 44.671875 24.703125 \nL 58.59375 24.703125 \nL 58.59375 19.484375 \nL 44.671875 19.484375 \nL 44.671875 5.171875 \nL 56.390625 5.171875 \nz\n\" id=\"DejaVuSerif-52\"/>\n       </defs>\n       <use xlink:href=\"#DejaVuSerif-48\"/>\n       <use x=\"63.623047\" xlink:href=\"#DejaVuSerif-46\"/>\n       <use x=\"95.410156\" xlink:href=\"#DejaVuSerif-48\"/>\n       <use x=\"159.033203\" xlink:href=\"#DejaVuSerif-52\"/>\n      </g>\n     </g>\n    </g>\n    <g id=\"xtick_4\">\n     <g id=\"line2d_4\">\n      <g>\n       <use style=\"stroke:#000000;stroke-width:0.8;\" x=\"325.25077\" xlink:href=\"#m91b6e63aa0\" y=\"321.0888\"/>\n      </g>\n     </g>\n     <g id=\"text_4\">\n      <!-- 0.06 -->\n      <g transform=\"translate(307.43827 340.2463)scale(0.16 -0.16)\">\n       <defs>\n        <path d=\"M 32.71875 3.421875 \nQ 39.59375 3.421875 43.296875 8.46875 \nQ 47.015625 13.53125 47.015625 23 \nQ 47.015625 32.46875 43.296875 37.515625 \nQ 39.59375 42.578125 32.71875 42.578125 \nQ 25.734375 42.578125 22.0625 37.6875 \nQ 18.40625 32.8125 18.40625 23.578125 \nQ 18.40625 13.875 22.109375 8.640625 \nQ 25.828125 3.421875 32.71875 3.421875 \nz\nM 16.796875 40.140625 \nQ 20.125 43.796875 24.3125 45.59375 \nQ 28.515625 47.40625 33.796875 47.40625 \nQ 44.671875 47.40625 51 40.859375 \nQ 57.328125 34.328125 57.328125 23 \nQ 57.328125 11.921875 50.515625 5.25 \nQ 43.703125 -1.421875 32.328125 -1.421875 \nQ 19.96875 -1.421875 13.328125 7.78125 \nQ 6.6875 17 6.6875 34.078125 \nQ 6.6875 53.21875 14.546875 63.71875 \nQ 22.40625 74.21875 36.71875 74.21875 \nQ 40.578125 74.21875 44.828125 73.484375 \nQ 49.078125 72.75 53.515625 71.296875 \nL 53.515625 59.28125 \nL 48 59.28125 \nQ 47.40625 64.203125 44.234375 66.796875 \nQ 41.0625 69.390625 35.6875 69.390625 \nQ 26.21875 69.390625 21.578125 62.203125 \nQ 16.9375 55.03125 16.796875 40.140625 \nz\n\" id=\"DejaVuSerif-54\"/>\n       </defs>\n       <use xlink:href=\"#DejaVuSerif-48\"/>\n       <use x=\"63.623047\" xlink:href=\"#DejaVuSerif-46\"/>\n       <use x=\"95.410156\" xlink:href=\"#DejaVuSerif-48\"/>\n       <use x=\"159.033203\" xlink:href=\"#DejaVuSerif-54\"/>\n      </g>\n     </g>\n    </g>\n    <g id=\"xtick_5\">\n     <g id=\"line2d_5\">\n      <g>\n       <use style=\"stroke:#000000;stroke-width:0.8;\" x=\"405.136238\" xlink:href=\"#m91b6e63aa0\" y=\"321.0888\"/>\n      </g>\n     </g>\n     <g id=\"text_5\">\n      <!-- 0.08 -->\n      <g transform=\"translate(387.323738 340.2463)scale(0.16 -0.16)\">\n       <defs>\n        <path d=\"M 46.578125 19.921875 \nQ 46.578125 27.734375 42.6875 32.046875 \nQ 38.8125 36.375 31.78125 36.375 \nQ 24.75 36.375 20.875 32.046875 \nQ 17 27.734375 17 19.921875 \nQ 17 12.0625 20.875 7.734375 \nQ 24.75 3.421875 31.78125 3.421875 \nQ 38.8125 3.421875 42.6875 7.734375 \nQ 46.578125 12.0625 46.578125 19.921875 \nz\nM 44.578125 55.328125 \nQ 44.578125 61.96875 41.203125 65.671875 \nQ 37.84375 69.390625 31.78125 69.390625 \nQ 25.78125 69.390625 22.390625 65.671875 \nQ 19 61.96875 19 55.328125 \nQ 19 48.640625 22.390625 44.921875 \nQ 25.78125 41.21875 31.78125 41.21875 \nQ 37.84375 41.21875 41.203125 44.921875 \nQ 44.578125 48.640625 44.578125 55.328125 \nz\nM 39.3125 38.8125 \nQ 47.609375 37.703125 52.25 32.6875 \nQ 56.890625 27.6875 56.890625 19.921875 \nQ 56.890625 9.671875 50.390625 4.125 \nQ 43.890625 -1.421875 31.78125 -1.421875 \nQ 19.734375 -1.421875 13.203125 4.125 \nQ 6.6875 9.671875 6.6875 19.921875 \nQ 6.6875 27.6875 11.328125 32.6875 \nQ 15.96875 37.703125 24.3125 38.8125 \nQ 16.9375 40.140625 13 44.40625 \nQ 9.078125 48.6875 9.078125 55.328125 \nQ 9.078125 64.109375 15.125 69.15625 \nQ 21.1875 74.21875 31.78125 74.21875 \nQ 42.390625 74.21875 48.4375 69.15625 \nQ 54.5 64.109375 54.5 55.328125 \nQ 54.5 48.6875 50.5625 44.40625 \nQ 46.625 40.140625 39.3125 38.8125 \nz\n\" id=\"DejaVuSerif-56\"/>\n       </defs>\n       <use xlink:href=\"#DejaVuSerif-48\"/>\n       <use x=\"63.623047\" xlink:href=\"#DejaVuSerif-46\"/>\n       <use x=\"95.410156\" xlink:href=\"#DejaVuSerif-48\"/>\n       <use x=\"159.033203\" xlink:href=\"#DejaVuSerif-56\"/>\n      </g>\n     </g>\n    </g>\n    <g id=\"xtick_6\">\n     <g id=\"line2d_6\">\n      <g>\n       <use style=\"stroke:#000000;stroke-width:0.8;\" x=\"485.021707\" xlink:href=\"#m91b6e63aa0\" y=\"321.0888\"/>\n      </g>\n     </g>\n     <g id=\"text_6\">\n      <!-- 0.10 -->\n      <g transform=\"translate(467.209207 340.2463)scale(0.16 -0.16)\">\n       <defs>\n        <path d=\"M 14.203125 0 \nL 14.203125 5.171875 \nL 26.90625 5.171875 \nL 26.90625 65.828125 \nL 12.203125 56.296875 \nL 12.203125 62.703125 \nL 29.984375 74.21875 \nL 36.71875 74.21875 \nL 36.71875 5.171875 \nL 49.421875 5.171875 \nL 49.421875 0 \nz\n\" id=\"DejaVuSerif-49\"/>\n       </defs>\n       <use xlink:href=\"#DejaVuSerif-48\"/>\n       <use x=\"63.623047\" xlink:href=\"#DejaVuSerif-46\"/>\n       <use x=\"95.410156\" xlink:href=\"#DejaVuSerif-49\"/>\n       <use x=\"159.033203\" xlink:href=\"#DejaVuSerif-48\"/>\n      </g>\n     </g>\n    </g>\n    <g id=\"xtick_7\">\n     <g id=\"line2d_7\">\n      <g>\n       <use style=\"stroke:#000000;stroke-width:0.8;\" x=\"564.907176\" xlink:href=\"#m91b6e63aa0\" y=\"321.0888\"/>\n      </g>\n     </g>\n     <g id=\"text_7\">\n      <!-- 0.12 -->\n      <g transform=\"translate(547.094676 340.2463)scale(0.16 -0.16)\">\n       <use xlink:href=\"#DejaVuSerif-48\"/>\n       <use x=\"63.623047\" xlink:href=\"#DejaVuSerif-46\"/>\n       <use x=\"95.410156\" xlink:href=\"#DejaVuSerif-49\"/>\n       <use x=\"159.033203\" xlink:href=\"#DejaVuSerif-50\"/>\n      </g>\n     </g>\n    </g>\n    <g id=\"text_8\">\n     <!-- Alcohol by Volume (abv)  -->\n     <g transform=\"translate(242.70375 359.7313)scale(0.16 -0.16)\">\n      <defs>\n       <path d=\"M 20.015625 26.421875 \nL 46.78125 26.421875 \nL 33.40625 61.078125 \nz\nM -0.59375 0 \nL -0.59375 5.171875 \nL 5.8125 5.171875 \nL 31.78125 72.90625 \nL 39.984375 72.90625 \nL 66.015625 5.171875 \nL 73.1875 5.171875 \nL 73.1875 0 \nL 46.6875 0 \nL 46.6875 5.171875 \nL 54.78125 5.171875 \nL 48.6875 21.1875 \nL 18.015625 21.1875 \nL 11.921875 5.171875 \nL 19.921875 5.171875 \nL 19.921875 0 \nz\n\" id=\"DejaVuSerif-65\"/>\n       <path d=\"M 20.515625 5.171875 \nL 29 5.171875 \nL 29 0 \nL 2.875 0 \nL 2.875 5.171875 \nL 11.53125 5.171875 \nL 11.53125 70.796875 \nL 2.875 70.796875 \nL 2.875 75.984375 \nL 20.515625 75.984375 \nz\n\" id=\"DejaVuSerif-108\"/>\n       <path d=\"M 51.421875 15.578125 \nQ 49.515625 7.28125 44.09375 2.921875 \nQ 38.671875 -1.421875 30.078125 -1.421875 \nQ 18.75 -1.421875 11.859375 6.078125 \nQ 4.984375 13.578125 4.984375 25.984375 \nQ 4.984375 38.421875 11.859375 45.875 \nQ 18.75 53.328125 30.078125 53.328125 \nQ 35.015625 53.328125 39.890625 52.171875 \nQ 44.78125 51.03125 49.703125 48.6875 \nL 49.703125 35.40625 \nL 44.484375 35.40625 \nQ 43.453125 42.234375 40.015625 45.359375 \nQ 36.578125 48.484375 30.171875 48.484375 \nQ 22.90625 48.484375 19.1875 42.84375 \nQ 15.484375 37.203125 15.484375 25.984375 \nQ 15.484375 14.75 19.171875 9.078125 \nQ 22.859375 3.421875 30.171875 3.421875 \nQ 35.984375 3.421875 39.453125 6.4375 \nQ 42.921875 9.46875 44.1875 15.578125 \nz\n\" id=\"DejaVuSerif-99\"/>\n       <path d=\"M 30.078125 3.421875 \nQ 37.3125 3.421875 40.984375 9.125 \nQ 44.671875 14.84375 44.671875 25.984375 \nQ 44.671875 37.109375 40.984375 42.796875 \nQ 37.3125 48.484375 30.078125 48.484375 \nQ 22.859375 48.484375 19.171875 42.796875 \nQ 15.484375 37.109375 15.484375 25.984375 \nQ 15.484375 14.84375 19.1875 9.125 \nQ 22.90625 3.421875 30.078125 3.421875 \nz\nM 30.078125 -1.421875 \nQ 18.75 -1.421875 11.859375 6.078125 \nQ 4.984375 13.578125 4.984375 25.984375 \nQ 4.984375 38.375 11.84375 45.84375 \nQ 18.703125 53.328125 30.078125 53.328125 \nQ 41.453125 53.328125 48.3125 45.84375 \nQ 55.171875 38.375 55.171875 25.984375 \nQ 55.171875 13.578125 48.3125 6.078125 \nQ 41.453125 -1.421875 30.078125 -1.421875 \nz\n\" id=\"DejaVuSerif-111\"/>\n       <path d=\"M 4.109375 0 \nL 4.109375 5.171875 \nL 12.203125 5.171875 \nL 12.203125 70.796875 \nL 3.609375 70.796875 \nL 3.609375 75.984375 \nL 21.1875 75.984375 \nL 21.1875 42.671875 \nQ 23.6875 47.953125 27.65625 50.640625 \nQ 31.640625 53.328125 36.921875 53.328125 \nQ 45.515625 53.328125 49.5625 48.390625 \nQ 53.609375 43.453125 53.609375 33.015625 \nL 53.609375 5.171875 \nL 61.625 5.171875 \nL 61.625 0 \nL 36.8125 0 \nL 36.8125 5.171875 \nL 44.578125 5.171875 \nL 44.578125 30.171875 \nQ 44.578125 39.703125 42.25 43.1875 \nQ 39.9375 46.6875 33.984375 46.6875 \nQ 27.734375 46.6875 24.453125 42.140625 \nQ 21.1875 37.59375 21.1875 28.90625 \nL 21.1875 5.171875 \nL 29 5.171875 \nL 29 0 \nz\n\" id=\"DejaVuSerif-104\"/>\n       <path id=\"DejaVuSerif-32\"/>\n       <path d=\"M 11.53125 5.171875 \nL 11.53125 70.796875 \nL 2.875 70.796875 \nL 2.875 75.984375 \nL 20.515625 75.984375 \nL 20.515625 43.796875 \nQ 23.140625 48.6875 27.21875 51 \nQ 31.296875 53.328125 37.3125 53.328125 \nQ 46.875 53.328125 52.921875 45.75 \nQ 58.984375 38.1875 58.984375 25.984375 \nQ 58.984375 13.765625 52.921875 6.171875 \nQ 46.875 -1.421875 37.3125 -1.421875 \nQ 31.296875 -1.421875 27.21875 0.890625 \nQ 23.140625 3.21875 20.515625 8.109375 \nL 20.515625 0 \nL 2.875 0 \nL 2.875 5.171875 \nz\nM 20.515625 23.390625 \nQ 20.515625 14.015625 24.09375 9.109375 \nQ 27.6875 4.203125 34.515625 4.203125 \nQ 41.40625 4.203125 44.9375 9.71875 \nQ 48.484375 15.234375 48.484375 25.984375 \nQ 48.484375 36.765625 44.9375 42.234375 \nQ 41.40625 47.703125 34.515625 47.703125 \nQ 27.6875 47.703125 24.09375 42.765625 \nQ 20.515625 37.84375 20.515625 28.515625 \nz\n\" id=\"DejaVuSerif-98\"/>\n       <path d=\"M 21.578125 -9.515625 \nL 25 -0.875 \nL 5.609375 46.6875 \nL -0.296875 46.6875 \nL -0.296875 51.90625 \nL 23.578125 51.90625 \nL 23.578125 46.6875 \nL 15.28125 46.6875 \nL 29.890625 10.984375 \nL 44.484375 46.6875 \nL 36.71875 46.6875 \nL 36.71875 51.90625 \nL 56.203125 51.90625 \nL 56.203125 46.6875 \nL 50.390625 46.6875 \nL 26.609375 -11.71875 \nQ 24.171875 -17.78125 21.1875 -20 \nQ 18.21875 -22.21875 12.796875 -22.21875 \nQ 10.5 -22.21875 8.078125 -21.828125 \nQ 5.671875 -21.4375 3.21875 -20.703125 \nL 3.21875 -10.796875 \nL 7.8125 -10.796875 \nQ 8.109375 -14.109375 9.5 -15.546875 \nQ 10.890625 -17 13.8125 -17 \nQ 16.5 -17 18.140625 -15.5 \nQ 19.78125 -14.015625 21.578125 -9.515625 \nz\n\" id=\"DejaVuSerif-121\"/>\n       <path d=\"M 17.484375 67.671875 \nL 39.015625 11.71875 \nL 60.5 67.671875 \nL 52.296875 67.671875 \nL 52.296875 72.90625 \nL 73.6875 72.90625 \nL 73.6875 67.671875 \nL 66.609375 67.671875 \nL 40.578125 0 \nL 32.171875 0 \nL 6.296875 67.671875 \nL -0.984375 67.671875 \nL -0.984375 72.90625 \nL 25.59375 72.90625 \nL 25.59375 67.671875 \nz\n\" id=\"DejaVuSerif-86\"/>\n       <path d=\"M 35.40625 51.90625 \nL 52.203125 51.90625 \nL 52.203125 5.171875 \nL 60.6875 5.171875 \nL 60.6875 0 \nL 43.21875 0 \nL 43.21875 9.1875 \nQ 40.71875 4 36.765625 1.28125 \nQ 32.8125 -1.421875 27.59375 -1.421875 \nQ 18.953125 -1.421875 14.875 3.484375 \nQ 10.796875 8.40625 10.796875 18.890625 \nL 10.796875 46.6875 \nL 2.6875 46.6875 \nL 2.6875 51.90625 \nL 19.828125 51.90625 \nL 19.828125 21.6875 \nQ 19.828125 12.203125 22.140625 8.6875 \nQ 24.46875 5.171875 30.421875 5.171875 \nQ 36.671875 5.171875 39.9375 9.765625 \nQ 43.21875 14.359375 43.21875 23.09375 \nL 43.21875 46.6875 \nL 35.40625 46.6875 \nz\n\" id=\"DejaVuSerif-117\"/>\n       <path d=\"M 51.8125 41.796875 \nQ 54.390625 47.515625 58.421875 50.421875 \nQ 62.453125 53.328125 67.828125 53.328125 \nQ 75.984375 53.328125 79.984375 48.265625 \nQ 83.984375 43.21875 83.984375 33.015625 \nL 83.984375 5.171875 \nL 92.09375 5.171875 \nL 92.09375 0 \nL 67.1875 0 \nL 67.1875 5.171875 \nL 75 5.171875 \nL 75 31.984375 \nQ 75 39.9375 72.65625 43.3125 \nQ 70.3125 46.6875 64.890625 46.6875 \nQ 58.890625 46.6875 55.734375 42.140625 \nQ 52.59375 37.59375 52.59375 28.90625 \nL 52.59375 5.171875 \nL 60.40625 5.171875 \nL 60.40625 0 \nL 35.796875 0 \nL 35.796875 5.171875 \nL 43.609375 5.171875 \nL 43.609375 32.328125 \nQ 43.609375 40.09375 41.265625 43.390625 \nQ 38.921875 46.6875 33.5 46.6875 \nQ 27.484375 46.6875 24.328125 42.140625 \nQ 21.1875 37.59375 21.1875 28.90625 \nL 21.1875 5.171875 \nL 29 5.171875 \nL 29 0 \nL 4.109375 0 \nL 4.109375 5.171875 \nL 12.203125 5.171875 \nL 12.203125 46.78125 \nL 3.609375 46.78125 \nL 3.609375 51.90625 \nL 21.1875 51.90625 \nL 21.1875 42.671875 \nQ 23.6875 47.859375 27.53125 50.59375 \nQ 31.390625 53.328125 36.28125 53.328125 \nQ 42.328125 53.328125 46.375 50.3125 \nQ 50.4375 47.3125 51.8125 41.796875 \nz\n\" id=\"DejaVuSerif-109\"/>\n       <path d=\"M 54.203125 25 \nL 15.484375 25 \nL 15.484375 24.609375 \nQ 15.484375 14.109375 19.4375 8.765625 \nQ 23.390625 3.421875 31.109375 3.421875 \nQ 37.015625 3.421875 40.796875 6.515625 \nQ 44.578125 9.625 46.09375 15.71875 \nL 53.328125 15.71875 \nQ 51.171875 7.171875 45.375 2.875 \nQ 39.59375 -1.421875 30.171875 -1.421875 \nQ 18.796875 -1.421875 11.890625 6.078125 \nQ 4.984375 13.578125 4.984375 25.984375 \nQ 4.984375 38.28125 11.765625 45.796875 \nQ 18.5625 53.328125 29.59375 53.328125 \nQ 41.359375 53.328125 47.65625 46.0625 \nQ 53.953125 38.8125 54.203125 25 \nz\nM 43.609375 30.171875 \nQ 43.3125 39.265625 39.765625 43.875 \nQ 36.234375 48.484375 29.59375 48.484375 \nQ 23.390625 48.484375 19.828125 43.84375 \nQ 16.265625 39.203125 15.484375 30.171875 \nz\n\" id=\"DejaVuSerif-101\"/>\n       <path d=\"M 31.890625 -15.578125 \nQ 20.015625 -10.25 13.953125 1.296875 \nQ 7.90625 12.84375 7.90625 30.171875 \nQ 7.90625 47.5625 13.953125 59.109375 \nQ 20.015625 70.65625 31.890625 75.984375 \nL 31.890625 71.1875 \nQ 24.359375 66.015625 21.09375 56.609375 \nQ 17.828125 47.21875 17.828125 30.171875 \nQ 17.828125 13.1875 21.09375 3.78125 \nQ 24.359375 -5.609375 31.890625 -10.796875 \nz\n\" id=\"DejaVuSerif-40\"/>\n       <path d=\"M 39.796875 16.3125 \nL 39.796875 27.296875 \nL 28.21875 27.296875 \nQ 21.53125 27.296875 18.25 24.40625 \nQ 14.984375 21.53125 14.984375 15.578125 \nQ 14.984375 10.15625 18.296875 6.984375 \nQ 21.625 3.8125 27.296875 3.8125 \nQ 32.90625 3.8125 36.34375 7.28125 \nQ 39.796875 10.75 39.796875 16.3125 \nz\nM 48.78125 32.421875 \nL 48.78125 5.171875 \nL 56.78125 5.171875 \nL 56.78125 0 \nL 39.796875 0 \nL 39.796875 5.609375 \nQ 36.8125 2 32.90625 0.28125 \nQ 29 -1.421875 23.78125 -1.421875 \nQ 15.140625 -1.421875 10.0625 3.171875 \nQ 4.984375 7.765625 4.984375 15.578125 \nQ 4.984375 23.640625 10.796875 28.078125 \nQ 16.609375 32.515625 27.203125 32.515625 \nL 39.796875 32.515625 \nL 39.796875 36.078125 \nQ 39.796875 42 36.203125 45.234375 \nQ 32.625 48.484375 26.125 48.484375 \nQ 20.75 48.484375 17.578125 46.046875 \nQ 14.40625 43.609375 13.625 38.8125 \nL 8.984375 38.8125 \nL 8.984375 49.3125 \nQ 13.671875 51.3125 18.09375 52.3125 \nQ 22.515625 53.328125 26.703125 53.328125 \nQ 37.5 53.328125 43.140625 47.96875 \nQ 48.78125 42.625 48.78125 32.421875 \nz\n\" id=\"DejaVuSerif-97\"/>\n       <path d=\"M 24.703125 0 \nL 5.609375 46.6875 \nL -0.296875 46.6875 \nL -0.296875 51.90625 \nL 23.578125 51.90625 \nL 23.578125 46.6875 \nL 15.28125 46.6875 \nL 29.890625 10.984375 \nL 44.484375 46.6875 \nL 36.71875 46.6875 \nL 36.71875 51.90625 \nL 56.203125 51.90625 \nL 56.203125 46.6875 \nL 50.390625 46.6875 \nL 31.296875 0 \nz\n\" id=\"DejaVuSerif-118\"/>\n       <path d=\"M 7.078125 -15.578125 \nL 7.078125 -10.796875 \nQ 14.59375 -5.609375 17.890625 3.78125 \nQ 21.1875 13.1875 21.1875 30.171875 \nQ 21.1875 47.21875 17.890625 56.609375 \nQ 14.59375 66.015625 7.078125 71.1875 \nL 7.078125 75.984375 \nQ 19 70.65625 25.046875 59.109375 \nQ 31.109375 47.5625 31.109375 30.171875 \nQ 31.109375 12.84375 25.046875 1.296875 \nQ 19 -10.25 7.078125 -15.578125 \nz\n\" id=\"DejaVuSerif-41\"/>\n      </defs>\n      <use xlink:href=\"#DejaVuSerif-65\"/>\n      <use x=\"72.216797\" xlink:href=\"#DejaVuSerif-108\"/>\n      <use x=\"104.199219\" xlink:href=\"#DejaVuSerif-99\"/>\n      <use x=\"160.205078\" xlink:href=\"#DejaVuSerif-111\"/>\n      <use x=\"220.410156\" xlink:href=\"#DejaVuSerif-104\"/>\n      <use x=\"284.814453\" xlink:href=\"#DejaVuSerif-111\"/>\n      <use x=\"345.019531\" xlink:href=\"#DejaVuSerif-108\"/>\n      <use x=\"377.001953\" xlink:href=\"#DejaVuSerif-32\"/>\n      <use x=\"408.789062\" xlink:href=\"#DejaVuSerif-98\"/>\n      <use x=\"472.802734\" xlink:href=\"#DejaVuSerif-121\"/>\n      <use x=\"529.296875\" xlink:href=\"#DejaVuSerif-32\"/>\n      <use x=\"561.083984\" xlink:href=\"#DejaVuSerif-86\"/>\n      <use x=\"624.175781\" xlink:href=\"#DejaVuSerif-111\"/>\n      <use x=\"684.380859\" xlink:href=\"#DejaVuSerif-108\"/>\n      <use x=\"716.363281\" xlink:href=\"#DejaVuSerif-117\"/>\n      <use x=\"780.767578\" xlink:href=\"#DejaVuSerif-109\"/>\n      <use x=\"875.591797\" xlink:href=\"#DejaVuSerif-101\"/>\n      <use x=\"934.771484\" xlink:href=\"#DejaVuSerif-32\"/>\n      <use x=\"966.558594\" xlink:href=\"#DejaVuSerif-40\"/>\n      <use x=\"1005.572266\" xlink:href=\"#DejaVuSerif-97\"/>\n      <use x=\"1065.191406\" xlink:href=\"#DejaVuSerif-98\"/>\n      <use x=\"1129.205078\" xlink:href=\"#DejaVuSerif-118\"/>\n      <use x=\"1185.699219\" xlink:href=\"#DejaVuSerif-41\"/>\n      <use x=\"1224.712891\" xlink:href=\"#DejaVuSerif-32\"/>\n     </g>\n    </g>\n   </g>\n   <g id=\"matplotlib.axis_2\">\n    <g id=\"ytick_1\">\n     <g id=\"line2d_8\">\n      <defs>\n       <path d=\"M 0 0 \nL -3.5 0 \n\" id=\"m4796fc660d\" style=\"stroke:#000000;stroke-width:0.8;\"/>\n      </defs>\n      <g>\n       <use style=\"stroke:#000000;stroke-width:0.8;\" x=\"64.225\" xlink:href=\"#m4796fc660d\" y=\"321.0888\"/>\n      </g>\n     </g>\n     <g id=\"text_9\">\n      <!-- 0 -->\n      <g transform=\"translate(47.045 327.16755)scale(0.16 -0.16)\">\n       <use xlink:href=\"#DejaVuSerif-48\"/>\n      </g>\n     </g>\n    </g>\n    <g id=\"ytick_2\">\n     <g id=\"line2d_9\">\n      <g>\n       <use style=\"stroke:#000000;stroke-width:0.8;\" x=\"64.225\" xlink:href=\"#m4796fc660d\" y=\"274.781619\"/>\n      </g>\n     </g>\n     <g id=\"text_10\">\n      <!-- 100 -->\n      <g transform=\"translate(26.685 280.860369)scale(0.16 -0.16)\">\n       <use xlink:href=\"#DejaVuSerif-49\"/>\n       <use x=\"63.623047\" xlink:href=\"#DejaVuSerif-48\"/>\n       <use x=\"127.246094\" xlink:href=\"#DejaVuSerif-48\"/>\n      </g>\n     </g>\n    </g>\n    <g id=\"ytick_3\">\n     <g id=\"line2d_10\">\n      <g>\n       <use style=\"stroke:#000000;stroke-width:0.8;\" x=\"64.225\" xlink:href=\"#m4796fc660d\" y=\"228.474438\"/>\n      </g>\n     </g>\n     <g id=\"text_11\">\n      <!-- 200 -->\n      <g transform=\"translate(26.685 234.553188)scale(0.16 -0.16)\">\n       <use xlink:href=\"#DejaVuSerif-50\"/>\n       <use x=\"63.623047\" xlink:href=\"#DejaVuSerif-48\"/>\n       <use x=\"127.246094\" xlink:href=\"#DejaVuSerif-48\"/>\n      </g>\n     </g>\n    </g>\n    <g id=\"ytick_4\">\n     <g id=\"line2d_11\">\n      <g>\n       <use style=\"stroke:#000000;stroke-width:0.8;\" x=\"64.225\" xlink:href=\"#m4796fc660d\" y=\"182.167256\"/>\n      </g>\n     </g>\n     <g id=\"text_12\">\n      <!-- 300 -->\n      <g transform=\"translate(26.685 188.246006)scale(0.16 -0.16)\">\n       <defs>\n        <path d=\"M 9.71875 69.828125 \nQ 15.4375 71.96875 20.671875 73.09375 \nQ 25.921875 74.21875 30.515625 74.21875 \nQ 41.21875 74.21875 47.21875 69.59375 \nQ 53.21875 64.984375 53.21875 56.78125 \nQ 53.21875 50.203125 49.0625 45.78125 \nQ 44.921875 41.359375 37.3125 39.796875 \nQ 46.296875 38.53125 51.25 33.28125 \nQ 56.203125 28.03125 56.203125 19.671875 \nQ 56.203125 9.46875 49.34375 4.015625 \nQ 42.484375 -1.421875 29.59375 -1.421875 \nQ 23.875 -1.421875 18.421875 -0.1875 \nQ 12.984375 1.03125 7.625 3.515625 \nL 7.625 17.671875 \nL 13.09375 17.671875 \nQ 13.578125 10.640625 17.828125 7.03125 \nQ 22.078125 3.421875 29.78125 3.421875 \nQ 37.25 3.421875 41.578125 7.734375 \nQ 45.90625 12.0625 45.90625 19.578125 \nQ 45.90625 28.171875 41.453125 32.59375 \nQ 37.015625 37.015625 28.421875 37.015625 \nL 23.78125 37.015625 \nL 23.78125 42 \nL 26.21875 42 \nQ 34.765625 42 39.03125 45.53125 \nQ 43.3125 49.078125 43.3125 56.203125 \nQ 43.3125 62.59375 39.796875 65.984375 \nQ 36.28125 69.390625 29.6875 69.390625 \nQ 23.09375 69.390625 19.453125 66.265625 \nQ 15.828125 63.140625 15.1875 56.984375 \nL 9.71875 56.984375 \nz\n\" id=\"DejaVuSerif-51\"/>\n       </defs>\n       <use xlink:href=\"#DejaVuSerif-51\"/>\n       <use x=\"63.623047\" xlink:href=\"#DejaVuSerif-48\"/>\n       <use x=\"127.246094\" xlink:href=\"#DejaVuSerif-48\"/>\n      </g>\n     </g>\n    </g>\n    <g id=\"ytick_5\">\n     <g id=\"line2d_12\">\n      <g>\n       <use style=\"stroke:#000000;stroke-width:0.8;\" x=\"64.225\" xlink:href=\"#m4796fc660d\" y=\"135.860075\"/>\n      </g>\n     </g>\n     <g id=\"text_13\">\n      <!-- 400 -->\n      <g transform=\"translate(26.685 141.938825)scale(0.16 -0.16)\">\n       <use xlink:href=\"#DejaVuSerif-52\"/>\n       <use x=\"63.623047\" xlink:href=\"#DejaVuSerif-48\"/>\n       <use x=\"127.246094\" xlink:href=\"#DejaVuSerif-48\"/>\n      </g>\n     </g>\n    </g>\n    <g id=\"ytick_6\">\n     <g id=\"line2d_13\">\n      <g>\n       <use style=\"stroke:#000000;stroke-width:0.8;\" x=\"64.225\" xlink:href=\"#m4796fc660d\" y=\"89.552894\"/>\n      </g>\n     </g>\n     <g id=\"text_14\">\n      <!-- 500 -->\n      <g transform=\"translate(26.685 95.631644)scale(0.16 -0.16)\">\n       <defs>\n        <path d=\"M 50.296875 72.90625 \nL 50.296875 64.890625 \nL 16.890625 64.890625 \nL 16.890625 44 \nQ 19.4375 45.75 22.828125 46.625 \nQ 26.21875 47.515625 30.421875 47.515625 \nQ 42.234375 47.515625 49.0625 40.96875 \nQ 55.90625 34.421875 55.90625 23.09375 \nQ 55.90625 11.53125 49 5.046875 \nQ 42.09375 -1.421875 29.59375 -1.421875 \nQ 24.5625 -1.421875 19.28125 -0.1875 \nQ 14.015625 1.03125 8.5 3.515625 \nL 8.5 17.671875 \nL 14.015625 17.671875 \nQ 14.453125 10.75 18.421875 7.078125 \nQ 22.40625 3.421875 29.59375 3.421875 \nQ 37.3125 3.421875 41.453125 8.5 \nQ 45.609375 13.578125 45.609375 23.09375 \nQ 45.609375 32.5625 41.484375 37.609375 \nQ 37.359375 42.671875 29.59375 42.671875 \nQ 25.203125 42.671875 21.84375 41.109375 \nQ 18.5 39.546875 15.921875 36.28125 \nL 11.71875 36.28125 \nL 11.71875 72.90625 \nz\n\" id=\"DejaVuSerif-53\"/>\n       </defs>\n       <use xlink:href=\"#DejaVuSerif-53\"/>\n       <use x=\"63.623047\" xlink:href=\"#DejaVuSerif-48\"/>\n       <use x=\"127.246094\" xlink:href=\"#DejaVuSerif-48\"/>\n      </g>\n     </g>\n    </g>\n    <g id=\"text_15\">\n     <!-- Frequency -->\n     <g transform=\"translate(19.13 228.46005)rotate(-90)scale(0.16 -0.16)\">\n      <defs>\n       <path d=\"M 5.515625 0 \nL 5.515625 5.171875 \nL 14.796875 5.171875 \nL 14.796875 67.671875 \nL 5.515625 67.671875 \nL 5.515625 72.90625 \nL 65.1875 72.90625 \nL 65.1875 56.6875 \nL 59.1875 56.6875 \nL 59.1875 66.890625 \nL 24.703125 66.890625 \nL 24.703125 42.484375 \nL 49.609375 42.484375 \nL 49.609375 51.609375 \nL 55.609375 51.609375 \nL 55.609375 27.390625 \nL 49.609375 27.390625 \nL 49.609375 36.53125 \nL 24.703125 36.53125 \nL 24.703125 5.171875 \nL 36.375 5.171875 \nL 36.375 0 \nz\n\" id=\"DejaVuSerif-70\"/>\n       <path d=\"M 47.796875 52 \nL 47.796875 39.015625 \nL 42.625 39.015625 \nQ 42.390625 42.875 40.484375 44.78125 \nQ 38.578125 46.6875 34.90625 46.6875 \nQ 28.265625 46.6875 24.71875 42.09375 \nQ 21.1875 37.5 21.1875 28.90625 \nL 21.1875 5.171875 \nL 31.59375 5.171875 \nL 31.59375 0 \nL 4.109375 0 \nL 4.109375 5.171875 \nL 12.203125 5.171875 \nL 12.203125 46.78125 \nL 3.609375 46.78125 \nL 3.609375 51.90625 \nL 21.1875 51.90625 \nL 21.1875 42.671875 \nQ 23.828125 48.09375 27.96875 50.703125 \nQ 32.125 53.328125 38.09375 53.328125 \nQ 40.28125 53.328125 42.703125 52.984375 \nQ 45.125 52.640625 47.796875 52 \nz\n\" id=\"DejaVuSerif-114\"/>\n       <path d=\"M 52.484375 46.6875 \nL 52.484375 -15.578125 \nL 61.078125 -15.578125 \nL 61.078125 -20.796875 \nL 35.015625 -20.796875 \nL 35.015625 -15.578125 \nL 43.5 -15.578125 \nL 43.5 8.109375 \nQ 40.875 3.21875 36.796875 0.890625 \nQ 32.71875 -1.421875 26.703125 -1.421875 \nQ 17.140625 -1.421875 11.0625 6.171875 \nQ 4.984375 13.765625 4.984375 25.984375 \nQ 4.984375 38.1875 11.03125 45.75 \nQ 17.09375 53.328125 26.703125 53.328125 \nQ 32.71875 53.328125 36.796875 51 \nQ 40.875 48.6875 43.5 43.796875 \nL 43.5 51.90625 \nL 61.078125 51.90625 \nL 61.078125 46.6875 \nz\nM 43.5 28.515625 \nQ 43.5 37.84375 39.90625 42.765625 \nQ 36.328125 47.703125 29.5 47.703125 \nQ 22.5625 47.703125 19.015625 42.234375 \nQ 15.484375 36.765625 15.484375 25.984375 \nQ 15.484375 15.234375 19.015625 9.71875 \nQ 22.5625 4.203125 29.5 4.203125 \nQ 36.328125 4.203125 39.90625 9.109375 \nQ 43.5 14.015625 43.5 23.390625 \nz\n\" id=\"DejaVuSerif-113\"/>\n       <path d=\"M 4.109375 0 \nL 4.109375 5.171875 \nL 12.203125 5.171875 \nL 12.203125 46.6875 \nL 3.609375 46.6875 \nL 3.609375 51.90625 \nL 21.1875 51.90625 \nL 21.1875 42.671875 \nQ 23.6875 47.953125 27.65625 50.640625 \nQ 31.640625 53.328125 36.921875 53.328125 \nQ 45.515625 53.328125 49.5625 48.390625 \nQ 53.609375 43.453125 53.609375 33.015625 \nL 53.609375 5.171875 \nL 61.625 5.171875 \nL 61.625 0 \nL 36.8125 0 \nL 36.8125 5.171875 \nL 44.578125 5.171875 \nL 44.578125 30.171875 \nQ 44.578125 39.703125 42.234375 43.234375 \nQ 39.890625 46.78125 33.984375 46.78125 \nQ 27.734375 46.78125 24.453125 42.203125 \nQ 21.1875 37.640625 21.1875 28.90625 \nL 21.1875 5.171875 \nL 29 5.171875 \nL 29 0 \nz\n\" id=\"DejaVuSerif-110\"/>\n      </defs>\n      <use xlink:href=\"#DejaVuSerif-70\"/>\n      <use x=\"69.384766\" xlink:href=\"#DejaVuSerif-114\"/>\n      <use x=\"117.1875\" xlink:href=\"#DejaVuSerif-101\"/>\n      <use x=\"176.367188\" xlink:href=\"#DejaVuSerif-113\"/>\n      <use x=\"240.380859\" xlink:href=\"#DejaVuSerif-117\"/>\n      <use x=\"304.785156\" xlink:href=\"#DejaVuSerif-101\"/>\n      <use x=\"363.964844\" xlink:href=\"#DejaVuSerif-110\"/>\n      <use x=\"428.369141\" xlink:href=\"#DejaVuSerif-99\"/>\n      <use x=\"484.375\" xlink:href=\"#DejaVuSerif-121\"/>\n     </g>\n    </g>\n   </g>\n   <g id=\"patch_23\">\n    <path d=\"M 64.225 321.0888 \nL 64.225 49.2888 \n\" style=\"fill:none;stroke:#000000;stroke-linecap:square;stroke-linejoin:miter;stroke-width:0.8;\"/>\n   </g>\n   <g id=\"patch_24\">\n    <path d=\"M 622.225 321.0888 \nL 622.225 49.2888 \n\" style=\"fill:none;stroke:#000000;stroke-linecap:square;stroke-linejoin:miter;stroke-width:0.8;\"/>\n   </g>\n   <g id=\"patch_25\">\n    <path d=\"M 64.225 321.0888 \nL 622.225 321.0888 \n\" style=\"fill:none;stroke:#000000;stroke-linecap:square;stroke-linejoin:miter;stroke-width:0.8;\"/>\n   </g>\n   <g id=\"patch_26\">\n    <path d=\"M 64.225 49.2888 \nL 622.225 49.2888 \n\" style=\"fill:none;stroke:#000000;stroke-linecap:square;stroke-linejoin:miter;stroke-width:0.8;\"/>\n   </g>\n   <g id=\"text_16\">\n    <!-- abv  -->\n    <g transform=\"translate(322.8805 21.789)scale(0.192 -0.192)\">\n     <use xlink:href=\"#DejaVuSerif-97\"/>\n     <use x=\"59.619141\" xlink:href=\"#DejaVuSerif-98\"/>\n     <use x=\"123.632812\" xlink:href=\"#DejaVuSerif-118\"/>\n     <use x=\"180.126953\" xlink:href=\"#DejaVuSerif-32\"/>\n    </g>\n    <!--  -->\n    <g transform=\"translate(343.225 43.2888)scale(0.192 -0.192)\"/>\n   </g>\n  </g>\n </g>\n <defs>\n  <clipPath id=\"p15a51bf664\">\n   <rect height=\"271.8\" width=\"558\" x=\"64.225\" y=\"49.2888\"/>\n  </clipPath>\n </defs>\n</svg>\n",
      "image/png": "[encoded data removed]"
     },
     "metadata": {
      "needs_background": "light"
     }
    }
   ],
   "source": [
    "#You can set the size of the figure by doing:\n",
    "pyplot.figure(figsize=(10,5))\n",
    "\n",
    "#Plotting\n",
    "pyplot.hist(abv, bins=20, color='#3498db', histtype='bar', edgecolor='white') \n",
    "#The \\n is to leave a blank line between the title and the plot\n",
    "pyplot.title('abv \\n')\n",
    "pyplot.xlabel('Alcohol by Volume (abv) ')\n",
    "pyplot.ylabel('Frequency');"
   ]
  },
  {
   "cell_type": "code",
   "execution_count": 31,
   "metadata": {},
   "outputs": [
    {
     "data": {
      "image/png": "[encoded data removed]",
      "text/plain": [
       "<Figure size 720x360 with 1 Axes>"
      ]
     },
     "metadata": {
      "needs_background": "light"
     },
     "output_type": "display_data"
    }
   ],
   "source": [
    "#You can set the size of the figure by doing:\n",
    "pyplot.figure(figsize=(10,5))\n",
    "\n",
    "#Plotting\n",
    "pyplot.hist(ibu, bins=20, color='#e67e22', histtype='bar', edgecolor='white') \n",
    "#The \\n is to leave a blanck line between the title and the plot\n",
    "pyplot.title('ibu \\n')\n",
    "pyplot.xlabel('International Bittering Units (ibu)')\n",
    "pyplot.ylabel('Frequency');"
   ]
  },
  {
   "cell_type": "markdown",
   "metadata": {},
   "source": [
    "##### Exploratory exercise:\n",
    "\n",
    "Play around with the plots, change the values of the bins, colors, etc."
   ]
  },
  {
   "cell_type": "markdown",
   "metadata": {},
   "source": [
    "### Comparing with a normal distribution\n",
    "\n",
    "A **normal** (or Gaussian) distribution is a special type of distrubution that behaves as shown in the figure: 68% of the values are within one standard deviation $\\sigma$ from the mean; 95% lie within $2\\sigma$; and at a distance of $\\pm3\\sigma$ from the mean, we cover 99.7% of the values. This fact is known as the $3$-$\\sigma$ rule, or 68-95-99.7 (empirical) rule.\n",
    "\n",
    "<img src=\"../images/std_bell_curve.png\" style=\"width: 800px;\"/> \n",
    "####  Standard deviation and coverage in a normal distribution. Modified figure based on original from [Wikimedia Commons](https://commons.wikimedia.org/wiki/File:Standard_deviation_diagram.svg), the free media repository.\n",
    "\n",
    "\n",
    "Notice that our histograms don't follow the shape of a normal distribution, known as *Bell Curve*. Our histograms are not centered in the mean value, and they are not symetric with respect to it. They are what we call **skewed** to the right (yes, to the _right_). A right (or positive) skewed distribution  looks like it's been pushed to the left: the right tail is longer and most of the values are concentrated on the left of the figure. Imagine that \"right-skewed\" means that a force from the right pushes on the curve."
   ]
  },
  {
   "cell_type": "markdown",
   "metadata": {},
   "source": [
    "##### Discuss with your pair programming partner\n",
    "\n",
    "* How do you think that skewness will affect the percentages of coverage by standard deviation compared to the Bell Curve?\n",
    "\n",
    "* Can we calculate those percentages? \n",
    "\n",
    "##### Spoiler alert! (and Exercise)\n",
    "\n",
    "Yes we can, and guess what: we can do it in a few lines of Python. But before doing that, we want you to explain in your own words how the following piece of code works. \n",
    "\n",
    "*Hints:* \n",
    "\n",
    "1. Check what the logical operation `numpy.logical_and(1<x, x<4)` returns.\n",
    "2. Check what happens if you sum booleans. For example, `True + True`, `True + False` and so on.\n"
   ]
  },
  {
   "cell_type": "code",
   "execution_count": 32,
   "metadata": {},
   "outputs": [
    {
     "name": "stdout",
     "output_type": "stream",
     "text": [
      "2\n"
     ]
    }
   ],
   "source": [
    "x = numpy.array([1,2,3,4])\n",
    "num_ele = numpy.logical_and(1<x, x<4).sum()\n",
    "print(num_ele)"
   ]
  },
  {
   "cell_type": "markdown",
   "metadata": {},
   "source": [
    "Now, using the same idea, we will calculate the number of elements in each interval of width $(1\\sigma, 2\\sigma, 3\\sigma)$, and get the corresponding percentage. \n",
    "\n",
    "Since we want to compute this for both of our variables, `abv` and `ibu`, we'll write a function to do so. Study carefully the code below. Better yet, explain it to your neighbor."
   ]
  },
  {
   "cell_type": "code",
   "execution_count": 33,
   "metadata": {},
   "outputs": [],
   "source": [
    "def std_percentages(x, x_mean, x_std):\n",
    "    \"\"\" Computes the percentage of coverage at 1std, 2std and 3std from the\n",
    "    mean value of a certain variable x.\n",
    "    \n",
    "    Arguments\n",
    "    ---------\n",
    "    x      : array, data we want to compute on. \n",
    "    x_mean : float, mean value of x array.\n",
    "    x_std  : float, standard deviation of x array.\n",
    "    \n",
    "    Returns\n",
    "    -------\n",
    "    \n",
    "    per_std_1 : float, percentage of values within 1 standard deviation.\n",
    "    per_std_2 : float, percentage of values within 2 standard deviations.\n",
    "    per_std_3 : float, percentage of values within 3 standard deviations.    \n",
    "    \"\"\"\n",
    "    \n",
    "    std_1 = x_std\n",
    "    std_2 = 2 * x_std\n",
    "    std_3 = 3 * x_std\n",
    "    \n",
    "    elem_std_1 = numpy.logical_and((x_mean - std_1) < x, x < (x_mean + std_1)).sum()\n",
    "    per_std_1 = elem_std_1 * 100 / len(x) \n",
    "    \n",
    "    elem_std_2 = numpy.logical_and((x_mean - std_2) < x, x < (x_mean + std_2)).sum()\n",
    "    per_std_2 = elem_std_2 * 100 / len(x) \n",
    "    \n",
    "    elem_std_3 = numpy.logical_and((x_mean - std_3) < x, x < (x_mean + std_3)).sum()\n",
    "    per_std_3 = elem_std_3 * 100 / len(x) \n",
    "    \n",
    "    return per_std_1, per_std_2, per_std_3\n",
    "    "
   ]
  },
  {
   "cell_type": "markdown",
   "metadata": {},
   "source": [
    "Let's compute the percentages next. Notice that the function above returns three values. If we want to assign each value to a different variable, we need to follow a specific syntax. In our example this would be:"
   ]
  },
  {
   "cell_type": "markdown",
   "metadata": {},
   "source": [
    "**abv**"
   ]
  },
  {
   "cell_type": "code",
   "execution_count": 34,
   "metadata": {},
   "outputs": [],
   "source": [
    "abv_std1_per, abv_std2_per, abv_std3_per = std_percentages(abv, abv_mean, abv_std)"
   ]
  },
  {
   "cell_type": "markdown",
   "metadata": {},
   "source": [
    "Let's pretty-print the values of our variables so we can inspect them:"
   ]
  },
  {
   "cell_type": "code",
   "execution_count": 35,
   "metadata": {},
   "outputs": [
    {
     "name": "stdout",
     "output_type": "stream",
     "text": [
      "The percentage of coverage at 1 std of the abv_mean is : 74.06 %\n",
      "The percentage of coverage at 2 std of the abv_mean is : 94.34 %\n",
      "The percentage of coverage at 3 std of the abv_mean is : 99.79 %\n"
     ]
    }
   ],
   "source": [
    "print('The percentage of coverage at 1 std of the abv_mean is : {:.2f} %'.format(abv_std1_per))\n",
    "print('The percentage of coverage at 2 std of the abv_mean is : {:.2f} %'.format(abv_std2_per))\n",
    "print('The percentage of coverage at 3 std of the abv_mean is : {:.2f} %'.format(abv_std3_per))"
   ]
  },
  {
   "cell_type": "markdown",
   "metadata": {},
   "source": [
    "**ibu**"
   ]
  },
  {
   "cell_type": "code",
   "execution_count": 36,
   "metadata": {},
   "outputs": [],
   "source": [
    "ibu_std1_per, ibu_std2_per, ibu_std3_per = std_percentages(ibu, ibu_mean, ibu_std)"
   ]
  },
  {
   "cell_type": "code",
   "execution_count": 37,
   "metadata": {},
   "outputs": [
    {
     "name": "stdout",
     "output_type": "stream",
     "text": [
      "The percentage of coverage at 1 std of the ibu_mean is : 68.11 %\n",
      "The percentage of coverage at 2 std of the ibu_mean is : 95.66 %\n",
      "The percentage of coverage at 3 std of the ibu_mean is : 99.72 %\n"
     ]
    }
   ],
   "source": [
    "print('The percentage of coverage at 1 std of the ibu_mean is : {:.2f} %'.format(ibu_std1_per))\n",
    "print('The percentage of coverage at 2 std of the ibu_mean is : {:.2f} %'.format(ibu_std2_per))\n",
    "print('The percentage of coverage at 3 std of the ibu_mean is : {:.2f} %'.format(ibu_std3_per))"
   ]
  },
  {
   "cell_type": "markdown",
   "metadata": {},
   "source": [
    "Notice that in both cases the percentages are not that far from the values for normal distribution (68%, 95%, 99.7%), especially for $2\\sigma$ and $3\\sigma$. So usually you can use these values as a rule of thumb. "
   ]
  },
  {
   "cell_type": "markdown",
   "metadata": {},
   "source": [
    "## What we've learned\n",
    "\n",
    "* Read data from a `csv` file using `pandas`.\n",
    "* The concepts of Data Frame and Series in `pandas`.\n",
    "* Clean null (NaN) values from a Series using `pandas`.\n",
    "* Convert a `panda`s Series into a `numpy` array.\n",
    "* Compute maximum and minimum, and range.\n",
    "* Revise concept of mean value.\n",
    "* Compute the variance and standard deviation.\n",
    "* Use the mean and standard deviation to understand how the data is distributed.\n",
    "* Plot frequency distribution diagrams (histograms).\n",
    "* Normal distribution and 3-sigma rule.\n"
   ]
  },
  {
   "cell_type": "markdown",
   "metadata": {},
   "source": [
    "## References\n",
    "\n",
    "1. [Craft beer datatset](https://github.com/nickhould/craft-beers-dataset) by Jean-Nicholas Hould.\n",
    "2. [Exploratory Data Analysis](https://en.wikipedia.org/wiki/Exploratory_data_analysis), Wikipedia article.\n",
    "3. _Think Python: How to Think Like a Computer Scientist_ (2012). Allen Downey. Green Tea Press.  [PDF available](http://greenteapress.com/thinkpython/thinkpython.pdf)\n",
    "4. [Intro to data Structures](https://pandas.pydata.org/pandas-docs/stable/dsintro.html), `pandas` documentation.\n",
    "5. _Think Stats: Probability and Statistics for Programmers_ version 1.6.0 (2011). Allen Downey. Green Tea Press.  [PDF available](http://greenteapress.com/thinkstats/thinkstats.pdf)\n",
    "\n",
    "### Recommended viewing\n",
    "\n",
    "From [\"Statistics in Medicine,\"](https://lagunita.stanford.edu/courses/Medicine/MedStats-SP/SelfPaced/about), a free course in Stanford Online by Prof. Kristin Sainani, we highly recommend that you watch these three lectures: \n",
    "* [Describing Quantitative Data: Where is the center?](https://youtu.be/tQ5slNYRcC4)\n",
    "* [Describing Quantitative Data: What is the variability in the data?](https://youtu.be/hlFeEQF5tDc)\n",
    "* [Variability in the data, continued: examples, bell curve](https://youtu.be/qeG0uNI3DBQ)"
   ]
  },
  {
   "cell_type": "code",
   "execution_count": 38,
   "metadata": {},
   "outputs": [
    {
     "data": {
      "text/html": [
       "<link href=\"https://fonts.googleapis.com/css?family=Merriweather:300,300i,400,400i,700,700i,900,900i\" rel='stylesheet' >\n",
       "<link href=\"https://fonts.googleapis.com/css?family=Source+Sans+Pro:300,300i,400,400i,700,700i\" rel='stylesheet' >\n",
       "<link href='http://fonts.googleapis.com/css?family=Source+Code+Pro:300,400' rel='stylesheet' >\n",
       "<style>\n",
       "\n",
       "@font-face {\n",
       "    font-family: \"Computer Modern\";\n",
       "    src: url('http://mirrors.ctan.org/fonts/cm-unicode/fonts/otf/cmunss.otf');\n",
       "}\n",
       "\n",
       "\n",
       "#notebook_panel { /* main background */\n",
       "    background: rgb(245,245,245);\n",
       "}\n",
       "\n",
       "div.cell { /* set cell width */\n",
       "    width: 800px;\n",
       "}\n",
       "\n",
       "div #notebook { /* centre the content */\n",
       "    background: #fff; /* white background for content */\n",
       "    width: 1000px;\n",
       "    margin: auto;\n",
       "    padding-left: 0em;\n",
       "}\n",
       "\n",
       "#notebook li { /* More space between bullet points */\n",
       "margin-top:0.5em;\n",
       "}\n",
       "\n",
       "/* draw border around running cells */\n",
       "div.cell.border-box-sizing.code_cell.running { \n",
       "    border: 1px solid #111;\n",
       "}\n",
       "\n",
       "/* Put a solid color box around each cell and its output, visually linking them*/\n",
       "div.cell.code_cell {\n",
       "    background-color: rgb(256,256,256); \n",
       "    border-radius: 0px; \n",
       "    padding: 0.5em;\n",
       "    margin-left:1em;\n",
       "    margin-top: 1em;\n",
       "}\n",
       "\n",
       "\n",
       "div.text_cell_render{\n",
       "    font-family: 'Source Sans Pro', sans-serif;\n",
       "    line-height: 140%;\n",
       "    font-size: 110%;\n",
       "    width:680px;\n",
       "    margin-left:auto;\n",
       "    margin-right:auto;\n",
       "}\n",
       "\n",
       "/* Formatting for header cells */\n",
       ".text_cell_render h1 {\n",
       "    font-family: 'Merriweather', serif;\n",
       "    font-style:regular;\n",
       "    font-weight: bold;    \n",
       "    font-size: 250%;\n",
       "    line-height: 100%;\n",
       "    color: #004065;\n",
       "    margin-bottom: 1em;\n",
       "    margin-top: 0.5em;\n",
       "    display: block;\n",
       "}\t\n",
       ".text_cell_render h2 {\n",
       "    font-family: 'Merriweather', serif;\n",
       "    font-weight: bold; \n",
       "    font-size: 180%;\n",
       "    line-height: 100%;\n",
       "    color: #0096d6;\n",
       "    margin-bottom: 0.5em;\n",
       "    margin-top: 0.5em;\n",
       "    display: block;\n",
       "}\t\n",
       "\n",
       ".text_cell_render h3 {\n",
       "    font-family: 'Merriweather', serif;\n",
       "\tfont-size: 150%;\n",
       "    margin-top:12px;\n",
       "    margin-bottom: 3px;\n",
       "    font-style: regular;\n",
       "    color: #008367;\n",
       "}\n",
       "\n",
       ".text_cell_render h4 {    /*Use this for captions*/\n",
       "    font-family: 'Merriweather', serif;\n",
       "    font-weight: 300; \n",
       "    font-size: 100%;\n",
       "    line-height: 120%;\n",
       "    text-align: left;\n",
       "    width:500px;\n",
       "    margin-top: 1em;\n",
       "    margin-bottom: 2em;\n",
       "    margin-left: 80pt;\n",
       "    font-style: regular;\n",
       "}\n",
       "\n",
       ".text_cell_render h5 {  /*Use this for small titles*/\n",
       "    font-family: 'Source Sans Pro', sans-serif;\n",
       "    font-weight: regular;\n",
       "    font-size: 130%;\n",
       "    color: #e31937;\n",
       "    font-style: italic;\n",
       "    margin-bottom: .5em;\n",
       "    margin-top: 1em;\n",
       "    display: block;\n",
       "}\n",
       "\n",
       ".text_cell_render h6 { /*use this for copyright note*/\n",
       "    font-family: 'Source Code Pro', sans-serif;\n",
       "    font-weight: 300;\n",
       "    font-size: 9pt;\n",
       "    line-height: 100%;\n",
       "    color: grey;\n",
       "    margin-bottom: 1px;\n",
       "    margin-top: 1px;\n",
       "}\n",
       "\n",
       "    .CodeMirror{\n",
       "            font-family: \"Source Code Pro\";\n",
       "\t\t\tfont-size: 90%;\n",
       "    }\n",
       "/*    .prompt{\n",
       "        display: None;\n",
       "    }*/\n",
       "\t\n",
       "    \n",
       "    .warning{\n",
       "        color: rgb( 240, 20, 20 )\n",
       "        }  \n",
       "</style>\n",
       "<script>\n",
       "    MathJax.Hub.Config({\n",
       "                        TeX: {\n",
       "                           extensions: [\"AMSmath.js\"], \n",
       "                           equationNumbers: { autoNumber: \"AMS\", useLabelIds: true}\n",
       "                           },\n",
       "                tex2jax: {\n",
       "                    inlineMath: [ ['$','$'], [\"\\\\(\",\"\\\\)\"] ],\n",
       "                    displayMath: [ ['$$','$$'], [\"\\\\[\",\"\\\\]\"] ]\n",
       "                },\n",
       "                displayAlign: 'center', // Change this to 'center' to center equations.\n",
       "                \"HTML-CSS\": {\n",
       "                    styles: {'.MathJax_Display': {\"margin\": 4}}\n",
       "                }\n",
       "        });\n",
       "</script>\n"
      ],
      "text/plain": [
       "<IPython.core.display.HTML object>"
      ]
     },
     "execution_count": 38,
     "metadata": {},
     "output_type": "execute_result"
    }
   ],
   "source": [
    "# Execute this cell to load the notebook's style sheet, then ignore it\n",
    "from IPython.core.display import HTML\n",
    "css_file = '../style/custom.css'\n",
    "HTML(open(css_file, \"r\").read())"
   ]
  }
 ],
 "metadata": {
  "kernelspec": {
   "name": "python388jvsc74a57bd0cf555a535db7017a6b948d32903ad36250485fd978ed311011af4dda9c2a4394",
   "display_name": "Python 3.8.8 64-bit ('Tuns_': conda)"
  },
  "language_info": {
   "codemirror_mode": {
    "name": "ipython",
    "version": 3
   },
   "file_extension": ".py",
   "mimetype": "text/x-python",
   "name": "python",
   "nbconvert_exporter": "python",
   "pygments_lexer": "ipython3",
   "version": "3.8.8"
  },
  "widgets": {
   "state": {},
   "version": "1.1.2"
  }
 },
 "nbformat": 4,
 "nbformat_minor": 2
}