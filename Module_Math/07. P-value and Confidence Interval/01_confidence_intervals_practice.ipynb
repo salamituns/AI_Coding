{
 "cells": [
  {
   "cell_type": "markdown",
   "metadata": {},
   "source": [
    "# Practice notebook for confidence intervals using NHANES data\n",
    "\n",
    "This notebook will give you the opportunity to practice working with confidence intervals using the NHANES data.\n",
    "\n",
    "You can enter your code into the cells that say \"enter your code here\", and you can type responses to the questions into the cells that say \"Type Markdown and Latex\".\n",
    "\n",
    "Note that most of the code that you will need to write below is very similar to code that appears in the case study notebook.  You will need to edit code from that notebook in small ways to adapt it to the prompts below.\n",
    "\n",
    "To get started, we will use the same module imports and read the data in the same way as we did in the case study:"
   ]
  },
  {
   "cell_type": "code",
   "execution_count": 77,
   "metadata": {},
   "outputs": [],
   "source": [
    "%matplotlib inline\n",
    "import matplotlib.pyplot as plt\n",
    "import pandas as pd\n",
    "import numpy as np\n",
    "import seaborn as sns\n",
    "import statsmodels.api as sm\n",
    "\n",
    "da = pd.read_csv(\"nhanes_2015_2016.csv\")"
   ]
  },
  {
   "cell_type": "code",
   "execution_count": 78,
   "metadata": {},
   "outputs": [
    {
     "output_type": "execute_result",
     "data": {
      "text/plain": [
       "    SEQN  ALQ101  ALQ110  ALQ130  SMQ020  RIAGENDR  RIDAGEYR  RIDRETH1  \\\n",
       "0  83732     1.0     NaN     1.0       1         1        62         3   \n",
       "1  83733     1.0     NaN     6.0       1         1        53         3   \n",
       "2  83734     1.0     NaN     NaN       1         1        78         3   \n",
       "3  83735     2.0     1.0     1.0       2         2        56         3   \n",
       "4  83736     2.0     1.0     1.0       2         2        42         4   \n",
       "\n",
       "   DMDCITZN  DMDEDUC2  ...  BPXSY2  BPXDI2  BMXWT  BMXHT  BMXBMI  BMXLEG  \\\n",
       "0       1.0       5.0  ...   124.0    64.0   94.8  184.5    27.8    43.3   \n",
       "1       2.0       3.0  ...   140.0    88.0   90.4  171.4    30.8    38.0   \n",
       "2       1.0       3.0  ...   132.0    44.0   83.4  170.1    28.8    35.6   \n",
       "3       1.0       5.0  ...   134.0    68.0  109.8  160.9    42.4    38.5   \n",
       "4       1.0       4.0  ...   114.0    54.0   55.2  164.9    20.3    37.4   \n",
       "\n",
       "   BMXARML  BMXARMC  BMXWAIST  HIQ210  \n",
       "0     43.6     35.9     101.1     2.0  \n",
       "1     40.0     33.2     107.9     NaN  \n",
       "2     37.0     31.0     116.5     2.0  \n",
       "3     37.7     38.3     110.1     2.0  \n",
       "4     36.0     27.2      80.4     2.0  \n",
       "\n",
       "[5 rows x 28 columns]"
      ],
      "text/html": "<div>\n<style scoped>\n    .dataframe tbody tr th:only-of-type {\n        vertical-align: middle;\n    }\n\n    .dataframe tbody tr th {\n        vertical-align: top;\n    }\n\n    .dataframe thead th {\n        text-align: right;\n    }\n</style>\n<table border=\"1\" class=\"dataframe\">\n  <thead>\n    <tr style=\"text-align: right;\">\n      <th></th>\n      <th>SEQN</th>\n      <th>ALQ101</th>\n      <th>ALQ110</th>\n      <th>ALQ130</th>\n      <th>SMQ020</th>\n      <th>RIAGENDR</th>\n      <th>RIDAGEYR</th>\n      <th>RIDRETH1</th>\n      <th>DMDCITZN</th>\n      <th>DMDEDUC2</th>\n      <th>...</th>\n      <th>BPXSY2</th>\n      <th>BPXDI2</th>\n      <th>BMXWT</th>\n      <th>BMXHT</th>\n      <th>BMXBMI</th>\n      <th>BMXLEG</th>\n      <th>BMXARML</th>\n      <th>BMXARMC</th>\n      <th>BMXWAIST</th>\n      <th>HIQ210</th>\n    </tr>\n  </thead>\n  <tbody>\n    <tr>\n      <th>0</th>\n      <td>83732</td>\n      <td>1.0</td>\n      <td>NaN</td>\n      <td>1.0</td>\n      <td>1</td>\n      <td>1</td>\n      <td>62</td>\n      <td>3</td>\n      <td>1.0</td>\n      <td>5.0</td>\n      <td>...</td>\n      <td>124.0</td>\n      <td>64.0</td>\n      <td>94.8</td>\n      <td>184.5</td>\n      <td>27.8</td>\n      <td>43.3</td>\n      <td>43.6</td>\n      <td>35.9</td>\n      <td>101.1</td>\n      <td>2.0</td>\n    </tr>\n    <tr>\n      <th>1</th>\n      <td>83733</td>\n      <td>1.0</td>\n      <td>NaN</td>\n      <td>6.0</td>\n      <td>1</td>\n      <td>1</td>\n      <td>53</td>\n      <td>3</td>\n      <td>2.0</td>\n      <td>3.0</td>\n      <td>...</td>\n      <td>140.0</td>\n      <td>88.0</td>\n      <td>90.4</td>\n      <td>171.4</td>\n      <td>30.8</td>\n      <td>38.0</td>\n      <td>40.0</td>\n      <td>33.2</td>\n      <td>107.9</td>\n      <td>NaN</td>\n    </tr>\n    <tr>\n      <th>2</th>\n      <td>83734</td>\n      <td>1.0</td>\n      <td>NaN</td>\n      <td>NaN</td>\n      <td>1</td>\n      <td>1</td>\n      <td>78</td>\n      <td>3</td>\n      <td>1.0</td>\n      <td>3.0</td>\n      <td>...</td>\n      <td>132.0</td>\n      <td>44.0</td>\n      <td>83.4</td>\n      <td>170.1</td>\n      <td>28.8</td>\n      <td>35.6</td>\n      <td>37.0</td>\n      <td>31.0</td>\n      <td>116.5</td>\n      <td>2.0</td>\n    </tr>\n    <tr>\n      <th>3</th>\n      <td>83735</td>\n      <td>2.0</td>\n      <td>1.0</td>\n      <td>1.0</td>\n      <td>2</td>\n      <td>2</td>\n      <td>56</td>\n      <td>3</td>\n      <td>1.0</td>\n      <td>5.0</td>\n      <td>...</td>\n      <td>134.0</td>\n      <td>68.0</td>\n      <td>109.8</td>\n      <td>160.9</td>\n      <td>42.4</td>\n      <td>38.5</td>\n      <td>37.7</td>\n      <td>38.3</td>\n      <td>110.1</td>\n      <td>2.0</td>\n    </tr>\n    <tr>\n      <th>4</th>\n      <td>83736</td>\n      <td>2.0</td>\n      <td>1.0</td>\n      <td>1.0</td>\n      <td>2</td>\n      <td>2</td>\n      <td>42</td>\n      <td>4</td>\n      <td>1.0</td>\n      <td>4.0</td>\n      <td>...</td>\n      <td>114.0</td>\n      <td>54.0</td>\n      <td>55.2</td>\n      <td>164.9</td>\n      <td>20.3</td>\n      <td>37.4</td>\n      <td>36.0</td>\n      <td>27.2</td>\n      <td>80.4</td>\n      <td>2.0</td>\n    </tr>\n  </tbody>\n</table>\n<p>5 rows × 28 columns</p>\n</div>"
     },
     "metadata": {},
     "execution_count": 78
    }
   ],
   "source": [
    "da.head()"
   ]
  },
  {
   "cell_type": "markdown",
   "metadata": {},
   "source": [
    "## Question 1\n",
    "\n",
    "Restrict the sample to women between 35 and 50, then use the marital status variable [DMDMARTL](https://wwwn.cdc.gov/Nchs/Nhanes/2015-2016/DEMO_I.htm#DMDMARTL) to partition this sample into two groups - women who are currently married, and women who are not currently married.  Within each of these groups, calculate the proportion of women who have completed college.  Calculate 95% confidence intervals for each of these proportions."
   ]
  },
  {
   "cell_type": "code",
   "execution_count": 79,
   "metadata": {},
   "outputs": [
    {
     "output_type": "stream",
     "name": "stderr",
     "text": [
      "<ipython-input-79-6d807b591d52>:5: SettingWithCopyWarning: \nA value is trying to be set on a copy of a slice from a DataFrame.\nTry using .loc[row_indexer,col_indexer] = value instead\n\nSee the caveats in the documentation: https://pandas.pydata.org/pandas-docs/stable/user_guide/indexing.html#returning-a-view-versus-a-copy\n  dw['marital_status'] = da.DMDMARTL.replace({1: 'married', 2: 'unmarried', 3: 'unmarried', 4: 'unmarried', 5: 'unmarried', 6: 'unmarried', 77: 'unmarried', 99: 'npnan'})\n<ipython-input-79-6d807b591d52>:7: SettingWithCopyWarning: \nA value is trying to be set on a copy of a slice from a DataFrame.\nTry using .loc[row_indexer,col_indexer] = value instead\n\nSee the caveats in the documentation: https://pandas.pydata.org/pandas-docs/stable/user_guide/indexing.html#returning-a-view-versus-a-copy\n  dw['college_status'] = da.DMDEDUC2.replace({1: 'no_college', 2: 'no_college', 3: 'no_college', 4: 'no_college', 5: 'college', 7:'no_college', 9: 'npnan'})\n"
     ]
    },
    {
     "output_type": "execute_result",
     "data": {
      "text/plain": [
       "college_status  college  no_college\n",
       "marital_status                     \n",
       "married             162         287\n",
       "unmarried            72         266"
      ],
      "text/html": "<div>\n<style scoped>\n    .dataframe tbody tr th:only-of-type {\n        vertical-align: middle;\n    }\n\n    .dataframe tbody tr th {\n        vertical-align: top;\n    }\n\n    .dataframe thead th {\n        text-align: right;\n    }\n</style>\n<table border=\"1\" class=\"dataframe\">\n  <thead>\n    <tr style=\"text-align: right;\">\n      <th>college_status</th>\n      <th>college</th>\n      <th>no_college</th>\n    </tr>\n    <tr>\n      <th>marital_status</th>\n      <th></th>\n      <th></th>\n    </tr>\n  </thead>\n  <tbody>\n    <tr>\n      <th>married</th>\n      <td>162</td>\n      <td>287</td>\n    </tr>\n    <tr>\n      <th>unmarried</th>\n      <td>72</td>\n      <td>266</td>\n    </tr>\n  </tbody>\n</table>\n</div>"
     },
     "metadata": {},
     "execution_count": 79
    }
   ],
   "source": [
    "# enter your code here\n",
    "filter_women = da.loc[(da.RIAGENDR == 2) & (da.RIDAGEYR >= 35) & (da.RIDAGEYR <= 50)] #first filter the women, age 35 & 50 from the da table \n",
    "dw = filter_women   #store this series into a simple variabe dw\n",
    "#then seperate the married from unmarried\n",
    "dw['marital_status'] = da.DMDMARTL.replace({1: 'married', 2: 'unmarried', 3: 'unmarried', 4: 'unmarried', 5: 'unmarried', 6: 'unmarried', 77: 'unmarried', 99: 'npnan'})     \n",
    "#also seperate college from no college\n",
    "dw['college_status'] = da.DMDEDUC2.replace({1: 'no_college', 2: 'no_college', 3: 'no_college', 4: 'no_college', 5: 'college', 7:'no_college', 9: 'npnan'})\n",
    "\n",
    "#table to display the restricted values\n",
    "dw = dw[['marital_status', 'college_status']].dropna() #droping all columns with empty values\n",
    "pd.crosstab(dw.marital_status, dw.college_status)   #creates a table showing length of occupied columns"
   ]
  },
  {
   "cell_type": "code",
   "execution_count": 69,
   "metadata": {},
   "outputs": [
    {
     "output_type": "stream",
     "name": "stdout",
     "text": [
      "                Proportion  Total_n\nmarital_status                     \nmarried           0.360802      449\nunmarried         0.213018      338\n\nThe proportion of educated women, married or unmarried is: (0.6331722212833798, 0.7514431633320048)\nThe proportion of married women, educated or not is given as: (0.31638193710753626, 0.4052216263668512)\n\nStandard error value for married women is 0.02266360248455356\nStandard error value for unmarried women is 0.022270605048202215\n\tWe can see that the standard errors for the estimated proportion of married and unmarried women from the population is very close\n"
     ]
    }
   ],
   "source": [
    "#calculate the proportion of women who have completed college\n",
    "dz = dw.groupby(dw.marital_status).agg({\"college_status\": [lambda x: np.mean(x==\"college\"), np.size]})\n",
    "dz.columns = [\"Proportion\", \"Total_n\"] # The default column names are unclear, so we replace them here\n",
    "print(dz)\n",
    "\n",
    "#proportion of married or not married with college (based on value above)\n",
    "women_educated = sm.stats.proportion_confint(162, 162+72)  #college, samples\n",
    "print( '\\n' 'The proportion of educated women, married or unmarried is: {}' .format(women_educated))\n",
    "\n",
    "#proportion of only married, with college or no college\n",
    "women_married = sm.stats.proportion_confint(162, 162 + 287)\n",
    "print('The proportion of married women, educated or not is given as: {}' .format(women_married))\n",
    "\n",
    "#next is to calculate 95% confidence intervals for each of these proportions.\n",
    "    #Confidence intervals are closely connected to standard errors.\n",
    "    #standard error essentially tells us how far we should expect an estimate to fall from the truth, and it is an estimation of the standard       deviation. \n",
    "    #A confidence interval is an interval that under repeated sampling covers the truth a defined proportion of the time, and \n",
    "    #In most settings, this \"coverage probability\" is set to 95%.\n",
    "    #A 95% confidence interval can be constructed as the interval consisting of all points that are within two (or 1.96) standard errors of         the point estimate.\n",
    "\n",
    "\n",
    "p = dz.Proportion.married # Female proportion\n",
    "n = dz.Total_n.married # Total number of females\n",
    "se_married = np.sqrt(p * (1 - p) / n)\n",
    "print( '\\n' 'Standard error value for married women is {}' .format(se_married))\n",
    "\n",
    "p = dz.Proportion.unmarried # Male proportion\n",
    "n = dz[\"Total_n\"].unmarried # Total number of males\n",
    "se_unmarried = np.sqrt(p * (1 - p) / n)\n",
    "print('Standard error value for unmarried women is {}' .format(se_unmarried))\n",
    "print('\\t' 'We can see that the standard errors for the estimated proportion of married and unmarried women from the population is very close')\n",
    "\n"
   ]
  },
  {
   "cell_type": "markdown",
   "metadata": {},
   "source": [
    "__Q1a.__ Identify which of the two confidence intervals is wider, and explain why this is the case. "
   ]
  },
  {
   "cell_type": "markdown",
   "metadata": {},
   "source": [
    "The standard error for a proportion is maximized when the true proportion is around 1/2, and gets smaller as the true proportion approaches either 0 or 1. The estimated unmarried women proportion is closer to 1/2 than the estimated married women proportion. also, the unmarried women sample size is smaller than the married women sample size. Both of these factors lead to the married standard error being larger than the unmarried standard error."
   ]
  },
  {
   "cell_type": "markdown",
   "metadata": {},
   "source": [
    "__Q1b.__ Write 1-2 sentences summarizing these findings for an audience that does not know what a confidence interval is (the goal here is to report the substance of what you learned about how marital status and educational attainment are related, not to teach a person what a confidence interval is)."
   ]
  },
  {
   "cell_type": "markdown",
   "metadata": {},
   "source": [
    "The take away from the above tabulated data is that more married women are educated than unmarried women even within the same age range of classification. Also, that confidence level is very connected with standard error."
   ]
  },
  {
   "cell_type": "markdown",
   "metadata": {},
   "source": [
    "## Question 2\n",
    "\n",
    "Construct 95% confidence intervals for the proportion of smokers who are female, and for the proportion of smokers who are male.  Then construct a 95% confidence interval for the difference between these proportions."
   ]
  },
  {
   "cell_type": "code",
   "execution_count": 88,
   "metadata": {},
   "outputs": [
    {
     "output_type": "stream",
     "name": "stdout",
     "text": [
      "Standard error value for female smokers is 0.008444152146214435\nStandard error value for male smokers is 0.009526078653689868\n\nproportion of female smokers is given as 0.288294683866098 and 0.32139576027925865 for the lower and upper case boundaries respectively\nproportion of male smokers is given as 0.49458714955108174 and 0.531929377873546 or the lower and upper case boundaries respectively\n"
     ]
    }
   ],
   "source": [
    "# enter your code here\n",
    "ds = da\n",
    "ds[\"smokers\"] = da.SMQ020.replace({1: \"Yes\", 2: \"No\", 7: np.nan, 9: np.nan})  # np.nan represents a missing value\n",
    "ds[\"genders\"] = da.RIAGENDR.replace({1: \"Male\", 2: \"Female\"})\n",
    "\n",
    "ds = ds[[\"smokers\", \"genders\"]].dropna()  # dropna drops cases where either variable is missing\n",
    "pd.crosstab(ds.smokers, ds.genders)\n",
    "\n",
    "dsmoke = ds.groupby(ds.genders).agg({\"smokers\": [lambda x: np.mean(x==\"Yes\"), np.size]})\n",
    "dsmoke.columns = [\"Proportion\", \"Total_n\"] # The default column names are unclear, so we replace them here\n",
    "\n",
    "p = dsmoke.Proportion.Female # Female proportion\n",
    "n = dsmoke.Total_n.Female # Total number of females\n",
    "se_female = np.sqrt(p * (1 - p) / n)\n",
    "print('Standard error value for female smokers is {}' .format(se_female))\n",
    "\n",
    "p = dsmoke.Proportion.Male # Male proportion\n",
    "n = dsmoke[\"Total_n\"].Male # Total number of males\n",
    "se_male = np.sqrt(p * (1 - p) / n)\n",
    "print('Standard error value for male smokers is {}' .format(se_male))\n",
    "\n",
    "\n",
    "p = dsmoke.Proportion.Female # Female proportion\n",
    "n = dsmoke.Total_n.Female # Total number of females\n",
    "lcb = p - 1.96 * np.sqrt(p * (1 - p) / n)  \n",
    "ucb = p + 1.96 * np.sqrt(p * (1 - p) / n)  \n",
    "print('\\n' 'proportion of female smokers is given as {} and {} for the lower and upper case boundaries respectively' .format(lcb, ucb))\n",
    "\n",
    "p = dsmoke.Proportion.Male # Male proportion\n",
    "n = dsmoke.Total_n.Male # Total number of males\n",
    "lcb = p - 1.96 * np.sqrt(p * (1 - p) / n)  \n",
    "ucb = p + 1.96 * np.sqrt(p * (1 - p) / n)  \n",
    "print('proportion of male smokers is given as {} and {} or the lower and upper case boundaries respectively' .format(lcb, ucb))"
   ]
  },
  {
   "cell_type": "markdown",
   "metadata": {},
   "source": [
    "__Q2a.__ Discuss why it may be relevant to report the proportions of smokers who are female and male, and contrast this to reporting the proportions of males and females who smoke."
   ]
  },
  {
   "cell_type": "markdown",
   "metadata": {},
   "source": [
    "This means that we are 95% sure that the proportion of smokers among the female population will be between 28% and 32%. \n",
    "anf for male: That we are 95% sure that the proportion of smokers among the male population will be between 49% and 53%.\n",
    "\n",
    "\n",
    "\n"
   ]
  },
  {
   "cell_type": "markdown",
   "metadata": {},
   "source": [
    "__Q2b.__ How does the width of the confidence interval for the difference of the two proportions compare to the widths of the confidence intervals for each proportion separately?"
   ]
  },
  {
   "cell_type": "markdown",
   "metadata": {},
   "source": []
  },
  {
   "cell_type": "markdown",
   "metadata": {},
   "source": [
    "## Question 3\n",
    "\n",
    "Construct a 95% interval for height ([BMXHT](https://wwwn.cdc.gov/Nchs/Nhanes/2015-2016/BMX_I.htm#BMXHT)) in centimeters.  Then convert height from centimeters to inches by dividing by 2.54, and construct a 95% confidence interval for height in inches.  Finally, convert the endpoints (the lower and upper confidence limits) of the confidence interval from inches to back to centimeters   "
   ]
  },
  {
   "cell_type": "code",
   "execution_count": null,
   "metadata": {},
   "outputs": [],
   "source": [
    "# enter your code here"
   ]
  },
  {
   "cell_type": "markdown",
   "metadata": {},
   "source": [
    "__Q3a.__ Describe how the confidence interval constructed in centimeters relates to the confidence interval constructed in inches."
   ]
  },
  {
   "cell_type": "markdown",
   "metadata": {},
   "source": []
  },
  {
   "cell_type": "markdown",
   "metadata": {},
   "source": [
    "## Question 4\n",
    "\n",
    "Partition the sample based on 10-year age bands, i.e. the resulting groups will consist of people with ages from 18-28, 29-38, etc. Construct 95% confidence intervals for the difference between the mean BMI for females and for males within each age band."
   ]
  },
  {
   "cell_type": "code",
   "execution_count": null,
   "metadata": {},
   "outputs": [],
   "source": [
    "# enter your code here"
   ]
  },
  {
   "cell_type": "markdown",
   "metadata": {},
   "source": [
    "__Q4a.__ How do the widths of these confidence intervals differ?  Provide an explanation for any substantial diferences in the confidence interval widths that you see."
   ]
  },
  {
   "cell_type": "markdown",
   "metadata": {},
   "source": []
  },
  {
   "cell_type": "markdown",
   "metadata": {},
   "source": [
    "## Question 5\n",
    "\n",
    "Construct a 95% confidence interval for the first and second systolic blood pressure measures, and for the difference between the first and second systolic blood pressure measurements within a subject."
   ]
  },
  {
   "cell_type": "code",
   "execution_count": null,
   "metadata": {},
   "outputs": [],
   "source": [
    "# enter code here"
   ]
  },
  {
   "cell_type": "markdown",
   "metadata": {},
   "source": [
    "__Q5a.__ Based on these confidence intervals, would you say that a difference of zero between the population mean values of the first and second systolic blood pressure measures is consistent with the data?"
   ]
  },
  {
   "cell_type": "markdown",
   "metadata": {},
   "source": []
  },
  {
   "cell_type": "markdown",
   "metadata": {},
   "source": [
    "\n",
    "__Q5b.__ Discuss how the width of the confidence interval for the within-subject difference compares to the widths of the confidence intervals for the first and second measures."
   ]
  },
  {
   "cell_type": "markdown",
   "metadata": {},
   "source": []
  },
  {
   "cell_type": "markdown",
   "metadata": {},
   "source": [
    "## Question 6\n",
    "\n",
    "Construct a 95% confidence interval for the mean difference between the average age of a smoker, and the average age of a non-smoker."
   ]
  },
  {
   "cell_type": "code",
   "execution_count": null,
   "metadata": {},
   "outputs": [],
   "source": [
    "# insert your code here"
   ]
  },
  {
   "cell_type": "markdown",
   "metadata": {},
   "source": [
    "__Q6a.__ Use graphical and numerical techniques to compare the variation in the ages of smokers to the variation in the ages of non-smokers.  "
   ]
  },
  {
   "cell_type": "code",
   "execution_count": 1,
   "metadata": {},
   "outputs": [],
   "source": [
    "# insert your code here"
   ]
  },
  {
   "cell_type": "markdown",
   "metadata": {},
   "source": [
    "__Q6b.__ Does it appear that uncertainty about the mean age of smokers, or uncertainty about the mean age of non-smokers contributed more to the uncertainty for the mean difference that we are focusing on here?"
   ]
  },
  {
   "cell_type": "markdown",
   "metadata": {},
   "source": []
  }
 ],
 "metadata": {
  "kernelspec": {
   "name": "python388jvsc74a57bd0cf555a535db7017a6b948d32903ad36250485fd978ed311011af4dda9c2a4394",
   "display_name": "Python 3.8.8 64-bit ('Tuns_': conda)"
  },
  "language_info": {
   "codemirror_mode": {
    "name": "ipython",
    "version": 3
   },
   "file_extension": ".py",
   "mimetype": "text/x-python",
   "name": "python",
   "nbconvert_exporter": "python",
   "pygments_lexer": "ipython3",
   "version": "3.8.8"
  },
  "varInspector": {
   "cols": {
    "lenName": 16,
    "lenType": 16,
    "lenVar": 40
   },
   "kernels_config": {
    "python": {
     "delete_cmd_postfix": "",
     "delete_cmd_prefix": "del ",
     "library": "var_list.py",
     "varRefreshCmd": "print(var_dic_list())"
    },
    "r": {
     "delete_cmd_postfix": ") ",
     "delete_cmd_prefix": "rm(",
     "library": "var_list.r",
     "varRefreshCmd": "cat(var_dic_list()) "
    }
   },
   "types_to_exclude": [
    "module",
    "function",
    "builtin_function_or_method",
    "instance",
    "_Feature"
   ],
   "window_display": false
  }
 },
 "nbformat": 4,
 "nbformat_minor": 2
}