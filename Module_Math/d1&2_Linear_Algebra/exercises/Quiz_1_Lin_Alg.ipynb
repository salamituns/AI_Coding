{
 "cells": [
  {
   "cell_type": "markdown",
   "metadata": {},
   "source": [
    "## Linear Algebra Quiz #1\n",
    "\n",
    "![title](./img/1_0.jpeg)\n",
    "\n",
    "We strongly suggest working with numpy :)"
   ]
  },
  {
   "cell_type": "code",
   "execution_count": 1,
   "metadata": {},
   "outputs": [],
   "source": [
    "#Do your imports here\n",
    "import numpy as np"
   ]
  },
  {
   "cell_type": "markdown",
   "metadata": {},
   "source": [
    "![title](./img/1_1.png)"
   ]
  },
  {
   "cell_type": "code",
   "execution_count": 7,
   "metadata": {},
   "outputs": [
    {
     "output_type": "execute_result",
     "data": {
      "text/plain": [
       "3.7416573867739413"
      ]
     },
     "metadata": {},
     "execution_count": 7
    }
   ],
   "source": [
    "# type a function that given a 3_dimensional vector it is able to calculate its magnitude\n",
    "\n",
    "def magnitude_3(a,b,c):\n",
    "    X = [a, b, c]\n",
    "    \n",
    "    return np.linalg.norm(X)\n",
    "\n",
    "\n",
    "# type a function that given a n_dimensional vector it is able to calculate its magnitude\n",
    "# if you want to try this from python (not jupyter notebook) https://docs.python.org/3/library/argparse.html would be a good addition\n",
    "# if you are doing this from a jupyter notebook only, you can try to promt the user for an input  \n",
    "magnitude_3(1,2,3)\n"
   ]
  },
  {
   "cell_type": "code",
   "execution_count": 12,
   "metadata": {},
   "outputs": [],
   "source": [
    "def magnitude_complete(*args):\n",
    "    X = []\n",
    "    for arg in args:\n",
    "        X.append(arg)\n",
    "    \n",
    "    return np.linalg.norm(X)"
   ]
  },
  {
   "source": [
    "#uncomment the following line when you are ready to test\n",
    "magnitude_complete(1,2,3,4,5)"
   ],
   "cell_type": "code",
   "metadata": {},
   "execution_count": 13,
   "outputs": [
    {
     "output_type": "execute_result",
     "data": {
      "text/plain": [
       "7.416198487095663"
      ]
     },
     "metadata": {},
     "execution_count": 13
    }
   ]
  },
  {
   "cell_type": "code",
   "execution_count": 17,
   "metadata": {},
   "outputs": [
    {
     "output_type": "execute_result",
     "data": {
      "text/plain": [
       "[True, True, True, True, True]"
      ]
     },
     "metadata": {},
     "execution_count": 17
    }
   ],
   "source": [
    "[magnitude_complete(1) == 1.0,\n",
    "magnitude_complete(1,2) >= 2.236,\n",
    "magnitude_complete(1,2,3) >= 3.741,\n",
    "magnitude_complete(1,2,3,4,5) >= 5.477,\n",
    "magnitude_complete(1,2,3,4,5) >= 7.416]"
   ]
  },
  {
   "cell_type": "markdown",
   "metadata": {},
   "source": [
    "![title](./img/1_2.png)"
   ]
  },
  {
   "cell_type": "code",
   "execution_count": 18,
   "metadata": {},
   "outputs": [],
   "source": [
    "def magnitude_vectors(a, b):\n",
    "    a_size = a.size\n",
    "    b_size = b.size\n",
    "    \n",
    "    try:\n",
    "        a_size == b_size\n",
    "        a_b_sum = a + b\n",
    "        return np.linalg.norm(a_b_sum)\n",
    "    \n",
    "    except:\n",
    "        print('Vectors are different dimensions {} and {}'.format(a_size, b_size))\n",
    "    #checks that size is equal\n",
    "    \n",
    "    #returns the magnitude"
   ]
  },
  {
   "cell_type": "code",
   "execution_count": 19,
   "metadata": {},
   "outputs": [
    {
     "output_type": "execute_result",
     "data": {
      "text/plain": [
       "1.0"
      ]
     },
     "metadata": {},
     "execution_count": 19
    }
   ],
   "source": [
    "a = np.array([5, 1])\n",
    "b = np.array([-4,-1])\n",
    "\n",
    "magnitude_vectors(a, b)"
   ]
  },
  {
   "cell_type": "markdown",
   "metadata": {},
   "source": [
    "![title](./img/1_3.png)"
   ]
  },
  {
   "cell_type": "code",
   "execution_count": 20,
   "metadata": {},
   "outputs": [],
   "source": [
    "def direction_vectors(a, b):\n",
    "    a_size = a.size\n",
    "    b_size = b.size\n",
    "    \n",
    "    try:\n",
    "        #checks that size is equal\n",
    "        a_size == b_size\n",
    "    \n",
    "        #returns the direction\n",
    "        a_b_sum = a + b\n",
    "        \n",
    "        return a_b_sum\n",
    "    \n",
    "    except:\n",
    "        print('Vectors are different dimensions {} and {}'.format(a_size, b_size))\n"
   ]
  },
  {
   "cell_type": "code",
   "execution_count": 21,
   "metadata": {},
   "outputs": [
    {
     "output_type": "execute_result",
     "data": {
      "text/plain": [
       "array([1, 0])"
      ]
     },
     "metadata": {},
     "execution_count": 21
    }
   ],
   "source": [
    "direction_vectors(a, b)"
   ]
  },
  {
   "source": [
    "def magdir_vectors(a, b):\n",
    "    a_size = a.size\n",
    "    b_size = b.size\n",
    "\n",
    "    try:\n",
    "        #check vectors are of same size\n",
    "        a_size == b_size\n",
    "        \n",
    "        #calculate direction\n",
    "        a_b_sum = a + b\n",
    "        \n",
    "        #calcualte magnitude of resulant direction vector\n",
    "        magnitude = np.linalg.norm(a_b_sum)\n",
    "        \n",
    "        print('The magnitude of a+b is {} and the direction is {}'.format(magnitude, a_b_sum))\n",
    "    \n",
    "    except:\n",
    "        print('Vectors are different dimensions {} and {}'.format(a_size, b_size))\n",
    "    \n",
    "    #checks that size is equal\n",
    "    \n",
    "    #returns the magnitude and direction in a nicely printed format \n",
    "    #\"The magnitude of a + b is X and the direction is Y\""
   ],
   "cell_type": "code",
   "metadata": {},
   "execution_count": 25,
   "outputs": []
  },
  {
   "cell_type": "code",
   "execution_count": 26,
   "metadata": {},
   "outputs": [
    {
     "output_type": "stream",
     "name": "stdout",
     "text": [
      "The magnitude of a+b is 1.0 and the direction is [1 0]\n"
     ]
    }
   ],
   "source": [
    "magdir_vectors(a, b)"
   ]
  },
  {
   "cell_type": "markdown",
   "metadata": {},
   "source": [
    "![title](./img/1_4.png)\n",
    "- What is the magnitude of αx⃗? \n",
    "- If α>0, will the direction of the resulting vector change?\n",
    "- If α<0, will the direction of the resulting vector change?\n",
    "- If −1<α<1, will ∥αx⃗∥  increase, decrease or stay the same?"
   ]
  },
  {
   "cell_type": "code",
   "execution_count": 22,
   "metadata": {},
   "outputs": [],
   "source": [
    "def alpha_magnitude(alpha, b):\n",
    "    b = np.array(b)\n",
    "    vector = alpha * b\n",
    "    if np.sign(b[0]) == np.sign(vector[0]):\n",
    "        print('No directional change')\n",
    "    else:\n",
    "        print('The direction has changed 180 degrees')\n",
    "    return (vector, np.linalg.norm(vector))\n",
    "    \n",
    "    \n",
    "    #returns the resulting magnitude, if the direction has changed and what has happened to the vector"
   ]
  },
  {
   "cell_type": "code",
   "execution_count": 23,
   "metadata": {},
   "outputs": [
    {
     "output_type": "stream",
     "name": "stdout",
     "text": [
      "The direction has changed 180 degrees\n"
     ]
    },
    {
     "output_type": "execute_result",
     "data": {
      "text/plain": [
       "(array([-8, -8]), 11.313708498984761)"
      ]
     },
     "metadata": {},
     "execution_count": 23
    }
   ],
   "source": [
    "alpha_magnitude(-8, [1,1])"
   ]
  },
  {
   "cell_type": "code",
   "execution_count": 24,
   "metadata": {},
   "outputs": [
    {
     "output_type": "stream",
     "name": "stdout",
     "text": [
      "No directional change\n"
     ]
    },
    {
     "output_type": "execute_result",
     "data": {
      "text/plain": [
       "(array([5, 5]), 7.0710678118654755)"
      ]
     },
     "metadata": {},
     "execution_count": 24
    }
   ],
   "source": [
    "alpha_magnitude(5, [1,1])"
   ]
  },
  {
   "cell_type": "code",
   "execution_count": null,
   "metadata": {},
   "outputs": [],
   "source": []
  }
 ],
 "metadata": {
  "kernelspec": {
   "display_name": "Python 3",
   "language": "python",
   "name": "python3"
  },
  "language_info": {
   "codemirror_mode": {
    "name": "ipython",
    "version": 3
   },
   "file_extension": ".py",
   "mimetype": "text/x-python",
   "name": "python",
   "nbconvert_exporter": "python",
   "pygments_lexer": "ipython3",
   "version": "3.8.8-final"
  }
 },
 "nbformat": 4,
 "nbformat_minor": 2
}