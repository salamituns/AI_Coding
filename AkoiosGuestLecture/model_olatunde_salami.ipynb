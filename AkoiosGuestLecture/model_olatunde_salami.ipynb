{
 "cells": [
  {
   "cell_type": "markdown",
   "source": [
    "```yaml\n",
    "titan: v1\n",
    "service:\n",
    "  image: scipy\n",
    "  machine:\n",
    "    cpu: 2\n",
    "    memory: 2048MB\n",
    "```"
   ],
   "metadata": {}
  },
  {
   "cell_type": "code",
   "execution_count": 1,
   "source": [
    "#importing dependencies\n",
    "from sklearn import datasets\n",
    "from sklearn.svm import SVR\n",
    "from sklearn.linear_model import SGDRegressor\n",
    "import pandas as pd\n",
    "import json"
   ],
   "outputs": [],
   "metadata": {}
  },
  {
   "cell_type": "code",
   "execution_count": 2,
   "source": [
    "#load data\n",
    "url = \"https://storage.googleapis.com/tutorial-datasets/weather_data_GER_2016.csv\"\n",
    "weather = pd.read_csv(url)"
   ],
   "outputs": [],
   "metadata": {}
  },
  {
   "cell_type": "code",
   "execution_count": 3,
   "source": [
    "weather.head()"
   ],
   "outputs": [
    {
     "output_type": "execute_result",
     "data": {
      "text/plain": [
       "              timestamp  cumulated hours   lat    lon    v1    v2  v_50m  h1  \\\n",
       "0  2016-01-01T00:00:00Z                0  47.5  5.625  0.81  1.88   3.36   2   \n",
       "1  2016-01-01T01:00:00Z                1  47.5  5.625  0.77  1.61   2.63   2   \n",
       "2  2016-01-01T02:00:00Z                2  47.5  5.625  0.66  1.22   1.89   2   \n",
       "3  2016-01-01T03:00:00Z                3  47.5  5.625  0.96  1.35   1.62   2   \n",
       "4  2016-01-01T04:00:00Z                4  47.5  5.625  1.14  1.56   1.83   2   \n",
       "\n",
       "   h2        z0  SWTDN  SWGDN           T       rho             p  \n",
       "0  10  0.052526    0.0    0.0  277.350159  1.236413  99282.710938  \n",
       "1  10  0.052510    0.0    0.0  277.025665  1.239390  99300.164062  \n",
       "2  10  0.052495    0.0    0.0  277.223755  1.243861  99310.992188  \n",
       "3  10  0.052480    0.0    0.0  277.133240  1.247390  99314.773438  \n",
       "4  10  0.052480    0.0    0.0  276.867767  1.248869  99324.796875  "
      ],
      "text/html": [
       "<div>\n",
       "<style scoped>\n",
       "    .dataframe tbody tr th:only-of-type {\n",
       "        vertical-align: middle;\n",
       "    }\n",
       "\n",
       "    .dataframe tbody tr th {\n",
       "        vertical-align: top;\n",
       "    }\n",
       "\n",
       "    .dataframe thead th {\n",
       "        text-align: right;\n",
       "    }\n",
       "</style>\n",
       "<table border=\"1\" class=\"dataframe\">\n",
       "  <thead>\n",
       "    <tr style=\"text-align: right;\">\n",
       "      <th></th>\n",
       "      <th>timestamp</th>\n",
       "      <th>cumulated hours</th>\n",
       "      <th>lat</th>\n",
       "      <th>lon</th>\n",
       "      <th>v1</th>\n",
       "      <th>v2</th>\n",
       "      <th>v_50m</th>\n",
       "      <th>h1</th>\n",
       "      <th>h2</th>\n",
       "      <th>z0</th>\n",
       "      <th>SWTDN</th>\n",
       "      <th>SWGDN</th>\n",
       "      <th>T</th>\n",
       "      <th>rho</th>\n",
       "      <th>p</th>\n",
       "    </tr>\n",
       "  </thead>\n",
       "  <tbody>\n",
       "    <tr>\n",
       "      <th>0</th>\n",
       "      <td>2016-01-01T00:00:00Z</td>\n",
       "      <td>0</td>\n",
       "      <td>47.5</td>\n",
       "      <td>5.625</td>\n",
       "      <td>0.81</td>\n",
       "      <td>1.88</td>\n",
       "      <td>3.36</td>\n",
       "      <td>2</td>\n",
       "      <td>10</td>\n",
       "      <td>0.052526</td>\n",
       "      <td>0.0</td>\n",
       "      <td>0.0</td>\n",
       "      <td>277.350159</td>\n",
       "      <td>1.236413</td>\n",
       "      <td>99282.710938</td>\n",
       "    </tr>\n",
       "    <tr>\n",
       "      <th>1</th>\n",
       "      <td>2016-01-01T01:00:00Z</td>\n",
       "      <td>1</td>\n",
       "      <td>47.5</td>\n",
       "      <td>5.625</td>\n",
       "      <td>0.77</td>\n",
       "      <td>1.61</td>\n",
       "      <td>2.63</td>\n",
       "      <td>2</td>\n",
       "      <td>10</td>\n",
       "      <td>0.052510</td>\n",
       "      <td>0.0</td>\n",
       "      <td>0.0</td>\n",
       "      <td>277.025665</td>\n",
       "      <td>1.239390</td>\n",
       "      <td>99300.164062</td>\n",
       "    </tr>\n",
       "    <tr>\n",
       "      <th>2</th>\n",
       "      <td>2016-01-01T02:00:00Z</td>\n",
       "      <td>2</td>\n",
       "      <td>47.5</td>\n",
       "      <td>5.625</td>\n",
       "      <td>0.66</td>\n",
       "      <td>1.22</td>\n",
       "      <td>1.89</td>\n",
       "      <td>2</td>\n",
       "      <td>10</td>\n",
       "      <td>0.052495</td>\n",
       "      <td>0.0</td>\n",
       "      <td>0.0</td>\n",
       "      <td>277.223755</td>\n",
       "      <td>1.243861</td>\n",
       "      <td>99310.992188</td>\n",
       "    </tr>\n",
       "    <tr>\n",
       "      <th>3</th>\n",
       "      <td>2016-01-01T03:00:00Z</td>\n",
       "      <td>3</td>\n",
       "      <td>47.5</td>\n",
       "      <td>5.625</td>\n",
       "      <td>0.96</td>\n",
       "      <td>1.35</td>\n",
       "      <td>1.62</td>\n",
       "      <td>2</td>\n",
       "      <td>10</td>\n",
       "      <td>0.052480</td>\n",
       "      <td>0.0</td>\n",
       "      <td>0.0</td>\n",
       "      <td>277.133240</td>\n",
       "      <td>1.247390</td>\n",
       "      <td>99314.773438</td>\n",
       "    </tr>\n",
       "    <tr>\n",
       "      <th>4</th>\n",
       "      <td>2016-01-01T04:00:00Z</td>\n",
       "      <td>4</td>\n",
       "      <td>47.5</td>\n",
       "      <td>5.625</td>\n",
       "      <td>1.14</td>\n",
       "      <td>1.56</td>\n",
       "      <td>1.83</td>\n",
       "      <td>2</td>\n",
       "      <td>10</td>\n",
       "      <td>0.052480</td>\n",
       "      <td>0.0</td>\n",
       "      <td>0.0</td>\n",
       "      <td>276.867767</td>\n",
       "      <td>1.248869</td>\n",
       "      <td>99324.796875</td>\n",
       "    </tr>\n",
       "  </tbody>\n",
       "</table>\n",
       "</div>"
      ]
     },
     "metadata": {},
     "execution_count": 3
    }
   ],
   "metadata": {}
  },
  {
   "cell_type": "markdown",
   "source": [
    "The data in the file contains the following:\n",
    "wind\n",
    "    v1: velocity [m/s] @ height h1 (2 meters above displacement height)\n",
    "    v2: velocity [m/s] @ height h2 (10 meters above displacement height)\n",
    "    v_50m: velocity [m/s] @ 50 meters above ground\n",
    "    h1: height above ground [m] (h1 = displacement height +2m)\n",
    "    h2: height above ground [m] (h2 = displacement height +10m)\n",
    "    z0: roughness length [m]\n",
    "solar parameters:\n",
    "    SWTDN: total top-of-the-atmosphere horizontal radiation [W/m²]\n",
    "    SWGDN: total ground horizontal radiation [W/m²]\n",
    "temperature data\n",
    "    T: Temperature [K] @ 2 meters above displacement height (see h1)\n",
    "air data\n",
    "    Rho: air density [kg/m³] @ surface *p: air pressure [Pa] @ surface"
   ],
   "metadata": {}
  },
  {
   "cell_type": "code",
   "execution_count": 4,
   "source": [
    "# Reading the dataset from a Gitlab repo\n",
    "url = \"https://storage.googleapis.com/tutorial-datasets/time_series_60min_singleindex_filtered.csv\"\n",
    "production = pd.read_csv(url)"
   ],
   "outputs": [],
   "metadata": {}
  },
  {
   "cell_type": "code",
   "execution_count": 5,
   "source": [
    "production.head()"
   ],
   "outputs": [
    {
     "output_type": "execute_result",
     "data": {
      "text/plain": [
       "          utc_timestamp        cet_cest_timestamp  DE_wind_generation_actual\n",
       "0  2015-12-31T23:00:00Z  2016-01-01T00:00:00+0100                       8638\n",
       "1  2016-01-01T00:00:00Z  2016-01-01T01:00:00+0100                       8579\n",
       "2  2016-01-01T01:00:00Z  2016-01-01T02:00:00+0100                       8542\n",
       "3  2016-01-01T02:00:00Z  2016-01-01T03:00:00+0100                       8443\n",
       "4  2016-01-01T03:00:00Z  2016-01-01T04:00:00+0100                       8295"
      ],
      "text/html": [
       "<div>\n",
       "<style scoped>\n",
       "    .dataframe tbody tr th:only-of-type {\n",
       "        vertical-align: middle;\n",
       "    }\n",
       "\n",
       "    .dataframe tbody tr th {\n",
       "        vertical-align: top;\n",
       "    }\n",
       "\n",
       "    .dataframe thead th {\n",
       "        text-align: right;\n",
       "    }\n",
       "</style>\n",
       "<table border=\"1\" class=\"dataframe\">\n",
       "  <thead>\n",
       "    <tr style=\"text-align: right;\">\n",
       "      <th></th>\n",
       "      <th>utc_timestamp</th>\n",
       "      <th>cet_cest_timestamp</th>\n",
       "      <th>DE_wind_generation_actual</th>\n",
       "    </tr>\n",
       "  </thead>\n",
       "  <tbody>\n",
       "    <tr>\n",
       "      <th>0</th>\n",
       "      <td>2015-12-31T23:00:00Z</td>\n",
       "      <td>2016-01-01T00:00:00+0100</td>\n",
       "      <td>8638</td>\n",
       "    </tr>\n",
       "    <tr>\n",
       "      <th>1</th>\n",
       "      <td>2016-01-01T00:00:00Z</td>\n",
       "      <td>2016-01-01T01:00:00+0100</td>\n",
       "      <td>8579</td>\n",
       "    </tr>\n",
       "    <tr>\n",
       "      <th>2</th>\n",
       "      <td>2016-01-01T01:00:00Z</td>\n",
       "      <td>2016-01-01T02:00:00+0100</td>\n",
       "      <td>8542</td>\n",
       "    </tr>\n",
       "    <tr>\n",
       "      <th>3</th>\n",
       "      <td>2016-01-01T02:00:00Z</td>\n",
       "      <td>2016-01-01T03:00:00+0100</td>\n",
       "      <td>8443</td>\n",
       "    </tr>\n",
       "    <tr>\n",
       "      <th>4</th>\n",
       "      <td>2016-01-01T03:00:00Z</td>\n",
       "      <td>2016-01-01T04:00:00+0100</td>\n",
       "      <td>8295</td>\n",
       "    </tr>\n",
       "  </tbody>\n",
       "</table>\n",
       "</div>"
      ]
     },
     "metadata": {},
     "execution_count": 5
    }
   ],
   "metadata": {}
  },
  {
   "cell_type": "code",
   "execution_count": 6,
   "source": [
    "# Merge datasets\n",
    "weather_by_day = weather.groupby(weather.index).mean()\n",
    "combined = pd.merge(production,\n",
    "                    weather_by_day,\n",
    "                    how='left',\n",
    "                    left_index=True,\n",
    "                    right_index=True)"
   ],
   "outputs": [],
   "metadata": {}
  },
  {
   "cell_type": "code",
   "execution_count": 7,
   "source": [
    "combined.head()"
   ],
   "outputs": [
    {
     "output_type": "execute_result",
     "data": {
      "text/plain": [
       "          utc_timestamp        cet_cest_timestamp  DE_wind_generation_actual  \\\n",
       "0  2015-12-31T23:00:00Z  2016-01-01T00:00:00+0100                       8638   \n",
       "1  2016-01-01T00:00:00Z  2016-01-01T01:00:00+0100                       8579   \n",
       "2  2016-01-01T01:00:00Z  2016-01-01T02:00:00+0100                       8542   \n",
       "3  2016-01-01T02:00:00Z  2016-01-01T03:00:00+0100                       8443   \n",
       "4  2016-01-01T03:00:00Z  2016-01-01T04:00:00+0100                       8295   \n",
       "\n",
       "   cumulated hours   lat    lon    v1    v2  v_50m  h1  h2        z0  SWTDN  \\\n",
       "0                0  47.5  5.625  0.81  1.88   3.36   2  10  0.052526    0.0   \n",
       "1                1  47.5  5.625  0.77  1.61   2.63   2  10  0.052510    0.0   \n",
       "2                2  47.5  5.625  0.66  1.22   1.89   2  10  0.052495    0.0   \n",
       "3                3  47.5  5.625  0.96  1.35   1.62   2  10  0.052480    0.0   \n",
       "4                4  47.5  5.625  1.14  1.56   1.83   2  10  0.052480    0.0   \n",
       "\n",
       "   SWGDN           T       rho             p  \n",
       "0    0.0  277.350159  1.236413  99282.710938  \n",
       "1    0.0  277.025665  1.239390  99300.164062  \n",
       "2    0.0  277.223755  1.243861  99310.992188  \n",
       "3    0.0  277.133240  1.247390  99314.773438  \n",
       "4    0.0  276.867767  1.248869  99324.796875  "
      ],
      "text/html": [
       "<div>\n",
       "<style scoped>\n",
       "    .dataframe tbody tr th:only-of-type {\n",
       "        vertical-align: middle;\n",
       "    }\n",
       "\n",
       "    .dataframe tbody tr th {\n",
       "        vertical-align: top;\n",
       "    }\n",
       "\n",
       "    .dataframe thead th {\n",
       "        text-align: right;\n",
       "    }\n",
       "</style>\n",
       "<table border=\"1\" class=\"dataframe\">\n",
       "  <thead>\n",
       "    <tr style=\"text-align: right;\">\n",
       "      <th></th>\n",
       "      <th>utc_timestamp</th>\n",
       "      <th>cet_cest_timestamp</th>\n",
       "      <th>DE_wind_generation_actual</th>\n",
       "      <th>cumulated hours</th>\n",
       "      <th>lat</th>\n",
       "      <th>lon</th>\n",
       "      <th>v1</th>\n",
       "      <th>v2</th>\n",
       "      <th>v_50m</th>\n",
       "      <th>h1</th>\n",
       "      <th>h2</th>\n",
       "      <th>z0</th>\n",
       "      <th>SWTDN</th>\n",
       "      <th>SWGDN</th>\n",
       "      <th>T</th>\n",
       "      <th>rho</th>\n",
       "      <th>p</th>\n",
       "    </tr>\n",
       "  </thead>\n",
       "  <tbody>\n",
       "    <tr>\n",
       "      <th>0</th>\n",
       "      <td>2015-12-31T23:00:00Z</td>\n",
       "      <td>2016-01-01T00:00:00+0100</td>\n",
       "      <td>8638</td>\n",
       "      <td>0</td>\n",
       "      <td>47.5</td>\n",
       "      <td>5.625</td>\n",
       "      <td>0.81</td>\n",
       "      <td>1.88</td>\n",
       "      <td>3.36</td>\n",
       "      <td>2</td>\n",
       "      <td>10</td>\n",
       "      <td>0.052526</td>\n",
       "      <td>0.0</td>\n",
       "      <td>0.0</td>\n",
       "      <td>277.350159</td>\n",
       "      <td>1.236413</td>\n",
       "      <td>99282.710938</td>\n",
       "    </tr>\n",
       "    <tr>\n",
       "      <th>1</th>\n",
       "      <td>2016-01-01T00:00:00Z</td>\n",
       "      <td>2016-01-01T01:00:00+0100</td>\n",
       "      <td>8579</td>\n",
       "      <td>1</td>\n",
       "      <td>47.5</td>\n",
       "      <td>5.625</td>\n",
       "      <td>0.77</td>\n",
       "      <td>1.61</td>\n",
       "      <td>2.63</td>\n",
       "      <td>2</td>\n",
       "      <td>10</td>\n",
       "      <td>0.052510</td>\n",
       "      <td>0.0</td>\n",
       "      <td>0.0</td>\n",
       "      <td>277.025665</td>\n",
       "      <td>1.239390</td>\n",
       "      <td>99300.164062</td>\n",
       "    </tr>\n",
       "    <tr>\n",
       "      <th>2</th>\n",
       "      <td>2016-01-01T01:00:00Z</td>\n",
       "      <td>2016-01-01T02:00:00+0100</td>\n",
       "      <td>8542</td>\n",
       "      <td>2</td>\n",
       "      <td>47.5</td>\n",
       "      <td>5.625</td>\n",
       "      <td>0.66</td>\n",
       "      <td>1.22</td>\n",
       "      <td>1.89</td>\n",
       "      <td>2</td>\n",
       "      <td>10</td>\n",
       "      <td>0.052495</td>\n",
       "      <td>0.0</td>\n",
       "      <td>0.0</td>\n",
       "      <td>277.223755</td>\n",
       "      <td>1.243861</td>\n",
       "      <td>99310.992188</td>\n",
       "    </tr>\n",
       "    <tr>\n",
       "      <th>3</th>\n",
       "      <td>2016-01-01T02:00:00Z</td>\n",
       "      <td>2016-01-01T03:00:00+0100</td>\n",
       "      <td>8443</td>\n",
       "      <td>3</td>\n",
       "      <td>47.5</td>\n",
       "      <td>5.625</td>\n",
       "      <td>0.96</td>\n",
       "      <td>1.35</td>\n",
       "      <td>1.62</td>\n",
       "      <td>2</td>\n",
       "      <td>10</td>\n",
       "      <td>0.052480</td>\n",
       "      <td>0.0</td>\n",
       "      <td>0.0</td>\n",
       "      <td>277.133240</td>\n",
       "      <td>1.247390</td>\n",
       "      <td>99314.773438</td>\n",
       "    </tr>\n",
       "    <tr>\n",
       "      <th>4</th>\n",
       "      <td>2016-01-01T03:00:00Z</td>\n",
       "      <td>2016-01-01T04:00:00+0100</td>\n",
       "      <td>8295</td>\n",
       "      <td>4</td>\n",
       "      <td>47.5</td>\n",
       "      <td>5.625</td>\n",
       "      <td>1.14</td>\n",
       "      <td>1.56</td>\n",
       "      <td>1.83</td>\n",
       "      <td>2</td>\n",
       "      <td>10</td>\n",
       "      <td>0.052480</td>\n",
       "      <td>0.0</td>\n",
       "      <td>0.0</td>\n",
       "      <td>276.867767</td>\n",
       "      <td>1.248869</td>\n",
       "      <td>99324.796875</td>\n",
       "    </tr>\n",
       "  </tbody>\n",
       "</table>\n",
       "</div>"
      ]
     },
     "metadata": {},
     "execution_count": 7
    }
   ],
   "metadata": {}
  },
  {
   "cell_type": "code",
   "execution_count": 10,
   "source": [
    "# specifying the features\n",
    "X = combined[['v1', 'v2', 'v_50m', 'z0']]\n",
    "y = combined['DE_wind_generation_actual']"
   ],
   "outputs": [],
   "metadata": {}
  },
  {
   "cell_type": "code",
   "execution_count": 13,
   "source": [
    "#create a train-test split, 80-20% split\n",
    "from sklearn.model_selection import train_test_split\n",
    "\n",
    "X_train, X_test, y_train, y_test = train_test_split(X, y, test_size=0.2)\n",
    "\n",
    "#shape of the feature sets\n",
    "X_train.shape, X_test.shape, y_train.shape, y_test.shape"
   ],
   "outputs": [
    {
     "output_type": "execute_result",
     "data": {
      "text/plain": [
       "((7027, 4), (1757, 4), (7027,), (1757,))"
      ]
     },
     "metadata": {},
     "execution_count": 13
    }
   ],
   "metadata": {}
  },
  {
   "cell_type": "code",
   "execution_count": 15,
   "source": [
    "model = SGDRegressor()\n",
    "model.fit(X_train, y_train)"
   ],
   "outputs": [
    {
     "output_type": "execute_result",
     "data": {
      "text/plain": [
       "SGDRegressor(alpha=0.0001, average=False, early_stopping=False, epsilon=0.1,\n",
       "             eta0=0.01, fit_intercept=True, l1_ratio=0.15,\n",
       "             learning_rate='invscaling', loss='squared_loss', max_iter=1000,\n",
       "             n_iter_no_change=5, penalty='l2', power_t=0.25, random_state=None,\n",
       "             shuffle=True, tol=0.001, validation_fraction=0.1, verbose=0,\n",
       "             warm_start=False)"
      ]
     },
     "metadata": {},
     "execution_count": 15
    }
   ],
   "metadata": {}
  },
  {
   "cell_type": "code",
   "execution_count": 27,
   "source": [
    "pred = model.predict(X_test)\n",
    "\n",
    "mse = (pred - y_test)**2\n",
    "\n",
    "mse"
   ],
   "outputs": [
    {
     "output_type": "execute_result",
     "data": {
      "text/plain": [
       "1441    1.875134e+07\n",
       "7874    3.904032e+06\n",
       "5284    3.660172e+07\n",
       "380     4.071026e+06\n",
       "2654    1.019077e+07\n",
       "            ...     \n",
       "823     1.047693e+08\n",
       "31      4.536554e+07\n",
       "3975    3.063684e+07\n",
       "4887    3.157172e+07\n",
       "5218    8.792059e+06\n",
       "Name: DE_wind_generation_actual, Length: 1757, dtype: float64"
      ]
     },
     "metadata": {},
     "execution_count": 27
    }
   ],
   "metadata": {}
  },
  {
   "cell_type": "code",
   "execution_count": 29,
   "source": [
    "# Now we can see the coefficients of our model\n",
    "print(f'alpha = {model.intercept_}')\n",
    "print(f'betas = {model.coef_}')"
   ],
   "outputs": [
    {
     "output_type": "stream",
     "name": "stdout",
     "text": [
      "alpha = [7653.8939528]\n",
      "betas = [-2968.89370723  2254.09830399    49.02040947   693.81647108]\n"
     ]
    }
   ],
   "metadata": {}
  },
  {
   "cell_type": "code",
   "execution_count": 30,
   "source": [
    "# GET /alphas\n",
    "print(f'alpha = {model.intercept_}')"
   ],
   "outputs": [
    {
     "output_type": "stream",
     "name": "stdout",
     "text": [
      "alpha = [7653.8939528]\n"
     ]
    }
   ],
   "metadata": {}
  },
  {
   "cell_type": "code",
   "execution_count": 31,
   "source": [
    "# GET /betas\n",
    "print(f'betas = {model.coef_}')"
   ],
   "outputs": [
    {
     "output_type": "stream",
     "name": "stdout",
     "text": [
      "betas = [-2968.89370723  2254.09830399    49.02040947   693.81647108]\n"
     ]
    }
   ],
   "metadata": {}
  },
  {
   "cell_type": "code",
   "execution_count": 32,
   "source": [
    "# Mock request object for local API testing\n",
    "headers = {'content-type': 'application/json'}\n",
    "body = json.dumps({\"data\": [[1.44, 1.77, 2, 0.054]]})\n",
    "REQUEST = json.dumps({'headers': headers, 'body': body})\n"
   ],
   "outputs": [],
   "metadata": {}
  },
  {
   "cell_type": "code",
   "execution_count": 33,
   "source": [
    "# POST /prediction\n",
    "body = json.loads(REQUEST)['body']\n",
    "# predict the cluster for new samples. Function to be exposed through Titan\n",
    "input_params = json.loads(body)['data']\n",
    "#input_params = [[0.44, 1.77, 2, 0.054]]\n",
    "print(model.predict(input_params))"
   ],
   "outputs": [
    {
     "output_type": "stream",
     "name": "stdout",
     "text": [
      "[7503.94792084]\n"
     ]
    }
   ],
   "metadata": {}
  }
 ],
 "metadata": {
  "orig_nbformat": 4,
  "language_info": {
   "name": "python"
  }
 },
 "nbformat": 4,
 "nbformat_minor": 2
}