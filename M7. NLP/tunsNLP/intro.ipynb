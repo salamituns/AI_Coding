{
 "cells": [
  {
   "cell_type": "code",
   "execution_count": 2,
   "source": [
    "import nltk\n",
    "nltk.download()"
   ],
   "outputs": [
    {
     "output_type": "stream",
     "name": "stdout",
     "text": [
      "showing info https://raw.githubusercontent.com/nltk/nltk_data/gh-pages/index.xml\n",
      "showing info https://raw.githubusercontent.com/nltk/nltk_data/gh-pages/index.xml\n",
      "showing info https://raw.githubusercontent.com/nltk/nltk_data/gh-pages/index.xml\n"
     ]
    },
    {
     "output_type": "execute_result",
     "data": {
      "text/plain": [
       "True"
      ]
     },
     "metadata": {},
     "execution_count": 2
    }
   ],
   "metadata": {}
  },
  {
   "cell_type": "markdown",
   "source": [
    "Tokenizing"
   ],
   "metadata": {}
  },
  {
   "cell_type": "code",
   "execution_count": 3,
   "source": [
    "paragraph = \"\"\"I have three visions for India. In 3000 years of our history, people from all over \n",
    "            the world have come and invaded us, captured our lands, conquered our minds. \n",
    "            From Alexander onwards, the Greeks, the Turks, the Moguls, the Portuguese, the British,\n",
    "            the French, the Dutch, all of them came and looted us, took over what was ours. \n",
    "            Yet we have not done this to any other nation. We have not conquered anyone. \n",
    "            We have not grabbed their land, their culture, \n",
    "            their history and tried to enforce our way of life on them. \n",
    "            Why? Because we respect the freedom of others.That is why my \n",
    "            first vision is that of freedom. I believe that India got its first vision of \n",
    "            this in 1857, when we started the War of Independence. It is this freedom that\n",
    "            we must protect and nurture and build on. If we are not free, no one will respect us.\n",
    "            My second vision for India’s development. For fifty years we have been a developing nation.\n",
    "            It is time we see ourselves as a developed nation. We are among the top 5 nations of the world\n",
    "            in terms of GDP. We have a 10 percent growth rate in most areas. Our poverty levels are falling.\n",
    "            Our achievements are being globally recognised today. Yet we lack the self-confidence to\n",
    "            see ourselves as a developed nation, self-reliant and self-assured. Isn’t this incorrect?\n",
    "            I have a third vision. India must stand up to the world. Because I believe that unless India \n",
    "            stands up to the world, no one will respect us. Only strength respects strength. We must be \n",
    "            strong not only as a military power but also as an economic power. Both must go hand-in-hand. \n",
    "            My good fortune was to have worked with three great minds. Dr. Vikram Sarabhai of the Dept. of \n",
    "            space, Professor Satish Dhawan, who succeeded him and Dr. Brahm Prakash, father of nuclear material.\n",
    "            I was lucky to have worked with all three of them closely and consider this the great opportunity of my life. \n",
    "            I see four milestones in my career\"\"\"\n",
    "\n",
    "# Tokenizing sentences\n",
    "sentences = nltk.sent_tokenize(paragraph)\n"
   ],
   "outputs": [],
   "metadata": {}
  },
  {
   "cell_type": "code",
   "execution_count": 7,
   "source": [
    "# Tokenizing words\n",
    "words = nltk.word_tokenize(paragraph)"
   ],
   "outputs": [],
   "metadata": {}
  },
  {
   "cell_type": "markdown",
   "source": [
    "Stemming"
   ],
   "metadata": {}
  },
  {
   "cell_type": "code",
   "execution_count": 8,
   "source": [
    "from nltk.stem import PorterStemmer\n",
    "from nltk.corpus import stopwords"
   ],
   "outputs": [],
   "metadata": {}
  },
  {
   "cell_type": "code",
   "execution_count": 21,
   "source": [
    "# Stemming\n",
    "\n",
    "sentences = nltk.sent_tokenize(paragraph)\n",
    "stemmer = PorterStemmer()\n",
    "\n",
    "for i in range(len(sentences)):     #for all the words in the range of sentences\n",
    "    words = nltk.word_tokenize(sentences[i])    #tokenize the words. \n",
    "    words = [stemmer.stem(word) for word in words if word not in set(   \n",
    "        stopwords.words('english'))]   #then check for unique (set) words not available in the english stopwords, and stem all.\n",
    "    sentences[i] = ' '.join(words)    #now join them together seperated by spaces.\n",
    "\n",
    "print(sentences)"
   ],
   "outputs": [
    {
     "output_type": "stream",
     "name": "stdout",
     "text": [
      "['I three vision india .', 'In 3000 year histori , peopl world come invad us , captur land , conquer mind .', 'from alexand onward , greek , turk , mogul , portugues , british , french , dutch , came loot us , took .', 'yet done nation .', 'We conquer anyon .', 'We grab land , cultur , histori tri enforc way life .', 'whi ?', 'becaus respect freedom others.that first vision freedom .', 'I believ india got first vision 1857 , start war independ .', 'It freedom must protect nurtur build .', 'If free , one respect us .', 'My second vision india ’ develop .', 'for fifti year develop nation .', 'It time see develop nation .', 'We among top 5 nation world term gdp .', 'We 10 percent growth rate area .', 'our poverti level fall .', 'our achiev global recognis today .', 'yet lack self-confid see develop nation , self-reli self-assur .', 'isn ’ incorrect ?', 'I third vision .', 'india must stand world .', 'becaus I believ unless india stand world , one respect us .', 'onli strength respect strength .', 'We must strong militari power also econom power .', 'both must go hand-in-hand .', 'My good fortun work three great mind .', 'dr. vikram sarabhai dept .', 'space , professor satish dhawan , succeed dr. brahm prakash , father nuclear materi .', 'I lucki work three close consid great opportun life .', 'I see four mileston career']\n"
     ]
    }
   ],
   "metadata": {}
  },
  {
   "cell_type": "markdown",
   "source": [
    "Lemmatization"
   ],
   "metadata": {}
  },
  {
   "cell_type": "code",
   "execution_count": 17,
   "source": [
    "from nltk.stem import WordNetLemmatizer\n",
    "from nltk.corpus import stopwords"
   ],
   "outputs": [],
   "metadata": {}
  },
  {
   "cell_type": "code",
   "execution_count": 22,
   "source": [
    "# Lemmatization\n",
    "\n",
    "sentences = nltk.sent_tokenize(paragraph)\n",
    "lemmatizer = WordNetLemmatizer()\n",
    "\n",
    "\n",
    "for i in range(len(sentences)):  # for all the words in the range of sentences\n",
    "    words = nltk.word_tokenize(sentences[i])  # tokenize this words.\n",
    "    words = [lemmatizer.lemmatize(word) for word in words if word not in set(\n",
    "        stopwords.words('english'))]  # then check for unique (set) words not available in the english stopwords, and lemmanize all.\n",
    "    sentences[i] = ' '.join(words)     #now join them together seperated by spaces.\n",
    "\n",
    "print(sentences)\n"
   ],
   "outputs": [
    {
     "output_type": "stream",
     "name": "stdout",
     "text": [
      "['I three vision India .', 'In 3000 year history , people world come invaded u , captured land , conquered mind .', 'From Alexander onwards , Greeks , Turks , Moguls , Portuguese , British , French , Dutch , came looted u , took .', 'Yet done nation .', 'We conquered anyone .', 'We grabbed land , culture , history tried enforce way life .', 'Why ?', 'Because respect freedom others.That first vision freedom .', 'I believe India got first vision 1857 , started War Independence .', 'It freedom must protect nurture build .', 'If free , one respect u .', 'My second vision India ’ development .', 'For fifty year developing nation .', 'It time see developed nation .', 'We among top 5 nation world term GDP .', 'We 10 percent growth rate area .', 'Our poverty level falling .', 'Our achievement globally recognised today .', 'Yet lack self-confidence see developed nation , self-reliant self-assured .', 'Isn ’ incorrect ?', 'I third vision .', 'India must stand world .', 'Because I believe unless India stand world , one respect u .', 'Only strength respect strength .', 'We must strong military power also economic power .', 'Both must go hand-in-hand .', 'My good fortune worked three great mind .', 'Dr. Vikram Sarabhai Dept .', 'space , Professor Satish Dhawan , succeeded Dr. Brahm Prakash , father nuclear material .', 'I lucky worked three closely consider great opportunity life .', 'I see four milestone career']\n"
     ]
    }
   ],
   "metadata": {}
  },
  {
   "cell_type": "code",
   "execution_count": null,
   "source": [],
   "outputs": [],
   "metadata": {}
  }
 ],
 "metadata": {
  "orig_nbformat": 4,
  "language_info": {
   "name": "python",
   "version": "3.9.5",
   "mimetype": "text/x-python",
   "codemirror_mode": {
    "name": "ipython",
    "version": 3
   },
   "pygments_lexer": "ipython3",
   "nbconvert_exporter": "python",
   "file_extension": ".py"
  },
  "kernelspec": {
   "name": "python3",
   "display_name": "Python 3.9.5 64-bit ('tunsnlp': conda)"
  },
  "interpreter": {
   "hash": "82d05aeb5b11e9658030a6640d8f4bea647dd1866c2ed7ee7a2727ffa0419e55"
  }
 },
 "nbformat": 4,
 "nbformat_minor": 2
}